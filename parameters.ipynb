{
 "cells": [
  {
   "cell_type": "markdown",
   "id": "ba6db4a9",
   "metadata": {},
   "source": [
    "# Rationale"
   ]
  },
  {
   "cell_type": "markdown",
   "id": "8687ed76",
   "metadata": {},
   "source": [
    "Often when studying Python you are first introduced to the syntax of function signatures by learning about positional-or-keyword (here called \"mixed\") parameters, then positional-only and keyword-only parameters are usually explained.\n",
    "\n",
    "Probably at some point parameters of arbitrary lengths (`*args` and `**kwargs`) are explained too. Often one is familiar with both of these two syntaxes:\n",
    "\n",
    "`def func(pos1, ..., posn, /, mxd1, ..., mxdn, *, key1, ..., keyn):`\n",
    "\n",
    "and\n",
    "\n",
    "`def func(mxd1, ..., mxdn, *args, **kwargs):`\n",
    "\n",
    "but without knowing the general case that lies behind them.\n",
    "\n",
    "__The purpose of this notebook is to provide concrete examples and to deduce a general syntax that is much more intuitive than the specific individual syntaxes__."
   ]
  },
  {
   "cell_type": "markdown",
   "id": "3bb98f23",
   "metadata": {},
   "source": [
    "# Conventions"
   ]
  },
  {
   "cell_type": "markdown",
   "id": "11605de1",
   "metadata": {},
   "source": [
    "I will be using the following conventions:\n",
    "- `pos<n>` for positional-only parameters, e.g.: `pos1`, `pos2`, etc.\n",
    "- `key<n>` for keyword-only parameters, e.g.: `key1`, `key2`, etc.\n",
    "- `mxd<n>` for positional-or-keyword parameters, i.e. the default ones when in the signature it is not specified neither `/` nor `*`, e.g.: `mxd1`, `mxd2`, etc."
   ]
  },
  {
   "cell_type": "markdown",
   "id": "f9a07dfb",
   "metadata": {},
   "source": [
    "The parameters are those defined in the function signature, the arguments the values passed in the function call."
   ]
  },
  {
   "cell_type": "code",
   "execution_count": 1,
   "id": "f545f8c8",
   "metadata": {},
   "outputs": [],
   "source": [
    "def func(par1):\n",
    "    print(f'par1: {par1}')"
   ]
  },
  {
   "cell_type": "code",
   "execution_count": 2,
   "id": "e19824c0",
   "metadata": {},
   "outputs": [
    {
     "name": "stdout",
     "output_type": "stream",
     "text": [
      "par1: a\n"
     ]
    }
   ],
   "source": [
    "arg1 = 'a'\n",
    "func(arg1)"
   ]
  },
  {
   "cell_type": "markdown",
   "id": "4c6398c8",
   "metadata": {},
   "source": [
    "# TL;DR"
   ]
  },
  {
   "cell_type": "markdown",
   "id": "31ac645e",
   "metadata": {},
   "source": [
    "Here's the most general syntax for function signatures:\n",
    "\n",
    "`def func([<positional-only parameters>,] [/,] [<mixed parameters>,] [*[args],] [<keyword-only parameters>,] [**kwargs]):`\n",
    "\n",
    "`/` and `*` are the delimiters for positional-only and keyword-only parameters, respectively. However, the `*` delimiter is also used for specifying `args`(it would be better to use `<args>` meaning it as a placeholder, but since the name `args` is actually  used as a convention, I chose to do so).\n",
    "\n",
    "This means that in the signature you can use the `*` delimiter just once, and if you'd like to have also `args` in addition to keyword-only parameters (or viceversa) you should write `*args`.\n",
    "\n",
    "The intuitive rule for remebering this is: __you can only use the `*` delimiter once, either alone or immediately followed by `args`, and everything that follows `*`, is a keyword-only parameter (except for `**kwargs`)__.\n",
    "\n",
    "Now that this has been clarified: you could also specify default values, which are something totally different and that is frequently confused with the idea of keyword-only parameters.\n",
    "\n",
    "Here, the main rule is: __every kind of parameter can have a default value defined in the signature. If you choose to assign it, then in the function signature there must be a point where on the left you only have parameters without default values, and on the right you only have parameters with default values *or* that are one of the following: `*args`, keyword-only, `**kwargs`.__\n",
    "\n",
    "As a direct implication of this, keyword-only parameters can have or not the default value without any ordering requirements."
   ]
  },
  {
   "cell_type": "markdown",
   "id": "eb595c75",
   "metadata": {},
   "source": [
    "# Parameters"
   ]
  },
  {
   "cell_type": "markdown",
   "id": "96b892cc",
   "metadata": {},
   "source": [
    "## Mixed Parameters"
   ]
  },
  {
   "cell_type": "markdown",
   "id": "2e953374",
   "metadata": {},
   "source": [
    "By default in Python - unless otherwise specified, all parameters are mixed parameters. This means that they can behave as both positional and keyword parameters:"
   ]
  },
  {
   "cell_type": "code",
   "execution_count": 3,
   "id": "1467151b",
   "metadata": {},
   "outputs": [],
   "source": [
    "def func(mxd1, mxd2):\n",
    "    print(f'mxd1: {mxd1}\\nmxd2: {mxd2}')"
   ]
  },
  {
   "cell_type": "code",
   "execution_count": 4,
   "id": "075b17a7",
   "metadata": {},
   "outputs": [
    {
     "name": "stdout",
     "output_type": "stream",
     "text": [
      "mxd1: a\n",
      "mxd2: b\n"
     ]
    }
   ],
   "source": [
    "func('a', 'b')"
   ]
  },
  {
   "cell_type": "markdown",
   "id": "9fd4b5a9",
   "metadata": {},
   "source": [
    "Passing `'a'` and `'b'` will assign them to `mxd1` and `mxd2`, respectively. Both parameters are here used as positional parameters."
   ]
  },
  {
   "cell_type": "markdown",
   "id": "b67b756b",
   "metadata": {},
   "source": [
    "Since they are mixed parameters, when passing values in the function call you can also use keyword arguments:"
   ]
  },
  {
   "cell_type": "code",
   "execution_count": 5,
   "id": "1fc25fba",
   "metadata": {},
   "outputs": [
    {
     "name": "stdout",
     "output_type": "stream",
     "text": [
      "mxd1: a\n",
      "mxd2: b\n"
     ]
    }
   ],
   "source": [
    "func(mxd1='a', mxd2='b')"
   ]
  },
  {
   "cell_type": "markdown",
   "id": "10b05537",
   "metadata": {},
   "source": [
    "Using them as keyword arguments also allows you to pass them in a mixed order:"
   ]
  },
  {
   "cell_type": "code",
   "execution_count": 6,
   "id": "60feec31",
   "metadata": {},
   "outputs": [
    {
     "name": "stdout",
     "output_type": "stream",
     "text": [
      "mxd1: a\n",
      "mxd2: b\n"
     ]
    }
   ],
   "source": [
    "func(mxd2='b', mxd1='a')"
   ]
  },
  {
   "cell_type": "markdown",
   "id": "1588f3b8",
   "metadata": {},
   "source": [
    "You can also use a mix of positional and keyword arguments:"
   ]
  },
  {
   "cell_type": "code",
   "execution_count": 7,
   "id": "9d7da820",
   "metadata": {},
   "outputs": [
    {
     "name": "stdout",
     "output_type": "stream",
     "text": [
      "mxd1: a\n",
      "mxd2: b\n"
     ]
    }
   ],
   "source": [
    "func('a', mxd2='b')"
   ]
  },
  {
   "cell_type": "markdown",
   "id": "45bf2c64",
   "metadata": {},
   "source": [
    "However, all keyword arguments **must** be to the right of positional arguments. If not, Python will raise a `SyntaxError` exception:"
   ]
  },
  {
   "cell_type": "code",
   "execution_count": 8,
   "id": "8f0f0465",
   "metadata": {},
   "outputs": [
    {
     "ename": "SyntaxError",
     "evalue": "positional argument follows keyword argument (1515809316.py, line 1)",
     "output_type": "error",
     "traceback": [
      "\u001b[0;36m  File \u001b[0;32m\"/tmp/ipykernel_5899/1515809316.py\"\u001b[0;36m, line \u001b[0;32m1\u001b[0m\n\u001b[0;31m    func(mxd1='a', 'b')\u001b[0m\n\u001b[0m                      ^\u001b[0m\n\u001b[0;31mSyntaxError\u001b[0m\u001b[0;31m:\u001b[0m positional argument follows keyword argument\n"
     ]
    }
   ],
   "source": [
    "func(mxd1='a', 'b')"
   ]
  },
  {
   "cell_type": "markdown",
   "id": "863058f7",
   "metadata": {},
   "source": [
    "## Positional-only Parameters"
   ]
  },
  {
   "cell_type": "markdown",
   "id": "0151dd60",
   "metadata": {},
   "source": [
    "If you want to force any number of parameters to be positional-only, write them separated by commas, with a trailing `/` as if it were a parameter:"
   ]
  },
  {
   "cell_type": "code",
   "execution_count": 9,
   "id": "bd7d0512",
   "metadata": {},
   "outputs": [],
   "source": [
    "def func(pos1, pos2, /):\n",
    "    print(f'pos1: {pos1}\\npos2: {pos2}')"
   ]
  },
  {
   "cell_type": "code",
   "execution_count": 10,
   "id": "4770f8d7",
   "metadata": {},
   "outputs": [
    {
     "name": "stdout",
     "output_type": "stream",
     "text": [
      "pos1: a\n",
      "pos2: b\n"
     ]
    }
   ],
   "source": [
    "func('a', 'b')"
   ]
  },
  {
   "cell_type": "markdown",
   "id": "42cfe334",
   "metadata": {},
   "source": [
    "Since they are positional-only parameters, if you try to pass them as keyword arguments, Python will raise a `TypeError` exception: "
   ]
  },
  {
   "cell_type": "code",
   "execution_count": 11,
   "id": "b9785bb9",
   "metadata": {},
   "outputs": [],
   "source": [
    "def func(pos1, pos2, /):\n",
    "    print(f'pos1: {pos1}\\npos2: {pos2}')"
   ]
  },
  {
   "cell_type": "code",
   "execution_count": 12,
   "id": "404ace5a",
   "metadata": {},
   "outputs": [
    {
     "ename": "TypeError",
     "evalue": "func() got some positional-only arguments passed as keyword arguments: 'pos1, pos2'",
     "output_type": "error",
     "traceback": [
      "\u001b[0;31m---------------------------------------------------------------------------\u001b[0m",
      "\u001b[0;31mTypeError\u001b[0m                                 Traceback (most recent call last)",
      "\u001b[0;32m/tmp/ipykernel_5899/1412797201.py\u001b[0m in \u001b[0;36m<module>\u001b[0;34m\u001b[0m\n\u001b[0;32m----> 1\u001b[0;31m \u001b[0mfunc\u001b[0m\u001b[0;34m(\u001b[0m\u001b[0mpos1\u001b[0m\u001b[0;34m=\u001b[0m\u001b[0;34m'a'\u001b[0m\u001b[0;34m,\u001b[0m \u001b[0mpos2\u001b[0m\u001b[0;34m=\u001b[0m\u001b[0;34m'b'\u001b[0m\u001b[0;34m)\u001b[0m\u001b[0;34m\u001b[0m\u001b[0;34m\u001b[0m\u001b[0m\n\u001b[0m",
      "\u001b[0;31mTypeError\u001b[0m: func() got some positional-only arguments passed as keyword arguments: 'pos1, pos2'"
     ]
    }
   ],
   "source": [
    "func(pos1='a', pos2='b')"
   ]
  },
  {
   "cell_type": "markdown",
   "id": "e4a16d2d",
   "metadata": {},
   "source": [
    "After the `/` delimiter, you can specify any number of mixed parameters:"
   ]
  },
  {
   "cell_type": "code",
   "execution_count": 13,
   "id": "59872397",
   "metadata": {},
   "outputs": [],
   "source": [
    "def func(pos1, pos2, /, mxd1):\n",
    "    print(f'pos1: {pos1}\\npos2: {pos2}\\nmxd1: {mxd1}')"
   ]
  },
  {
   "cell_type": "code",
   "execution_count": 14,
   "id": "c54f46b3",
   "metadata": {},
   "outputs": [
    {
     "name": "stdout",
     "output_type": "stream",
     "text": [
      "pos1: a\n",
      "pos2: b\n",
      "mxd1: c\n"
     ]
    }
   ],
   "source": [
    "func('a', 'b', 'c')"
   ]
  },
  {
   "cell_type": "code",
   "execution_count": 15,
   "id": "a3ccb93e",
   "metadata": {},
   "outputs": [
    {
     "name": "stdout",
     "output_type": "stream",
     "text": [
      "pos1: a\n",
      "pos2: b\n",
      "mxd1: c\n"
     ]
    }
   ],
   "source": [
    "func('a', 'b', mxd1='c')"
   ]
  },
  {
   "cell_type": "markdown",
   "id": "13ba26a1",
   "metadata": {},
   "source": [
    "## Keyword-only Parameters"
   ]
  },
  {
   "cell_type": "markdown",
   "id": "81285052",
   "metadata": {},
   "source": [
    "If you want to force any number of parameters to be keyword-only, write them separated by commas, with a leading `*` as if it were a parameter:"
   ]
  },
  {
   "cell_type": "code",
   "execution_count": 16,
   "id": "345e8290",
   "metadata": {},
   "outputs": [],
   "source": [
    "def func(*, key1, key2):\n",
    "    print(f'key1: {key1}\\nkey2: {key2}')"
   ]
  },
  {
   "cell_type": "code",
   "execution_count": 17,
   "id": "1712d9d0",
   "metadata": {},
   "outputs": [
    {
     "name": "stdout",
     "output_type": "stream",
     "text": [
      "key1: a\n",
      "key2: b\n"
     ]
    }
   ],
   "source": [
    "func(key1='a', key2='b')"
   ]
  },
  {
   "cell_type": "markdown",
   "id": "b117b97e",
   "metadata": {},
   "source": [
    "Since they are keyword-only arguments, this allows you to pass them in a mixed order:"
   ]
  },
  {
   "cell_type": "code",
   "execution_count": 18,
   "id": "fe6dc33f",
   "metadata": {},
   "outputs": [
    {
     "name": "stdout",
     "output_type": "stream",
     "text": [
      "key1: a\n",
      "key2: b\n"
     ]
    }
   ],
   "source": [
    "func(key2='b', key1='a')"
   ]
  },
  {
   "cell_type": "markdown",
   "id": "e043d8a8",
   "metadata": {},
   "source": [
    "Since they are keyword-only parameters, if you try to pass them as positional arguments, Python will raise a `TypeError` exception: "
   ]
  },
  {
   "cell_type": "code",
   "execution_count": 19,
   "id": "9c7059d2",
   "metadata": {},
   "outputs": [
    {
     "ename": "TypeError",
     "evalue": "func() takes 0 positional arguments but 1 positional argument (and 1 keyword-only argument) were given",
     "output_type": "error",
     "traceback": [
      "\u001b[0;31m---------------------------------------------------------------------------\u001b[0m",
      "\u001b[0;31mTypeError\u001b[0m                                 Traceback (most recent call last)",
      "\u001b[0;32m/tmp/ipykernel_5899/4238208996.py\u001b[0m in \u001b[0;36m<module>\u001b[0;34m\u001b[0m\n\u001b[0;32m----> 1\u001b[0;31m \u001b[0mfunc\u001b[0m\u001b[0;34m(\u001b[0m\u001b[0;34m'a'\u001b[0m\u001b[0;34m,\u001b[0m \u001b[0mkey2\u001b[0m\u001b[0;34m=\u001b[0m\u001b[0;34m'b'\u001b[0m\u001b[0;34m)\u001b[0m\u001b[0;34m\u001b[0m\u001b[0;34m\u001b[0m\u001b[0m\n\u001b[0m",
      "\u001b[0;31mTypeError\u001b[0m: func() takes 0 positional arguments but 1 positional argument (and 1 keyword-only argument) were given"
     ]
    }
   ],
   "source": [
    "func('a', key2='b')"
   ]
  },
  {
   "cell_type": "markdown",
   "id": "ba93afaf",
   "metadata": {},
   "source": [
    "Before the `*` delimiter, you can specify any number of mixed parameters:"
   ]
  },
  {
   "cell_type": "code",
   "execution_count": 20,
   "id": "a8c9a94c",
   "metadata": {},
   "outputs": [],
   "source": [
    "def func(mxd1, *, key1, key2):\n",
    "    print(f'key1: {key1}\\nkey2: {key2}\\nmxd1: {mxd1}')"
   ]
  },
  {
   "cell_type": "code",
   "execution_count": 21,
   "id": "fe5ee996",
   "metadata": {},
   "outputs": [
    {
     "name": "stdout",
     "output_type": "stream",
     "text": [
      "key1: b\n",
      "key2: c\n",
      "mxd1: a\n"
     ]
    }
   ],
   "source": [
    "func('a', key1='b', key2='c')"
   ]
  },
  {
   "cell_type": "code",
   "execution_count": 22,
   "id": "bc4ad520",
   "metadata": {},
   "outputs": [
    {
     "name": "stdout",
     "output_type": "stream",
     "text": [
      "key1: b\n",
      "key2: c\n",
      "mxd1: a\n"
     ]
    }
   ],
   "source": [
    "func(mxd1='a', key1='b', key2='c')"
   ]
  },
  {
   "cell_type": "markdown",
   "id": "5c504050",
   "metadata": {},
   "source": [
    "If you use the mixed parameter (or the parameters, if they are more than one) as a keyword argument, you can pass all the arguments in a mixed order:"
   ]
  },
  {
   "cell_type": "code",
   "execution_count": 23,
   "id": "d24ac12e",
   "metadata": {},
   "outputs": [
    {
     "name": "stdout",
     "output_type": "stream",
     "text": [
      "key1: b\n",
      "key2: c\n",
      "mxd1: a\n"
     ]
    }
   ],
   "source": [
    "func(key1='b', mxd1='a', key2='c')"
   ]
  },
  {
   "cell_type": "markdown",
   "id": "408193a9",
   "metadata": {},
   "source": [
    "##  Tying Them All Together"
   ]
  },
  {
   "cell_type": "markdown",
   "id": "0d953877",
   "metadata": {},
   "source": [
    "Here's a list of examples that summarizes what we've seen so far:"
   ]
  },
  {
   "cell_type": "code",
   "execution_count": 24,
   "id": "6ab0f260",
   "metadata": {},
   "outputs": [],
   "source": [
    "def func(pos1, /, mxd1, *, key1):\n",
    "    print(f'pos1: {pos1}\\nmxd1: {mxd1}\\nkey1: {key1}')"
   ]
  },
  {
   "cell_type": "code",
   "execution_count": 25,
   "id": "7cf90bde",
   "metadata": {},
   "outputs": [
    {
     "name": "stdout",
     "output_type": "stream",
     "text": [
      "pos1: a\n",
      "mxd1: b\n",
      "key1: c\n"
     ]
    }
   ],
   "source": [
    "func('a', 'b', key1='c')"
   ]
  },
  {
   "cell_type": "code",
   "execution_count": 26,
   "id": "e9582440",
   "metadata": {},
   "outputs": [
    {
     "name": "stdout",
     "output_type": "stream",
     "text": [
      "pos1: a\n",
      "mxd1: b\n",
      "key1: c\n"
     ]
    }
   ],
   "source": [
    "func('a', mxd1='b', key1='c')"
   ]
  },
  {
   "cell_type": "code",
   "execution_count": 27,
   "id": "47030b5d",
   "metadata": {},
   "outputs": [
    {
     "name": "stdout",
     "output_type": "stream",
     "text": [
      "pos1: a\n",
      "mxd1: b\n",
      "key1: c\n"
     ]
    }
   ],
   "source": [
    "func('a', key1='c', mxd1='b')"
   ]
  },
  {
   "cell_type": "markdown",
   "id": "9c8ce62c",
   "metadata": {},
   "source": [
    "Mixed parameters are not mandatory, and you could just have positional-only and keyword-only using the following syntax:"
   ]
  },
  {
   "cell_type": "code",
   "execution_count": 28,
   "id": "5695c0a2",
   "metadata": {},
   "outputs": [],
   "source": [
    "def func(pos1, /, *, key1):\n",
    "    print(f'pos1: {pos1}\\nkey1: {key1}')"
   ]
  },
  {
   "cell_type": "code",
   "execution_count": 29,
   "id": "342ace1a",
   "metadata": {},
   "outputs": [
    {
     "name": "stdout",
     "output_type": "stream",
     "text": [
      "pos1: a\n",
      "key1: b\n"
     ]
    }
   ],
   "source": [
    "func('a', key1='b')"
   ]
  },
  {
   "cell_type": "markdown",
   "id": "c0d79b41",
   "metadata": {},
   "source": [
    "All the rules above still does apply. So it's not possible to pass a keyword argument to a positional-only parameter, and viceversa. Otherwise, Python will raise a `TypeError` exception:"
   ]
  },
  {
   "cell_type": "code",
   "execution_count": 30,
   "id": "cedcf195",
   "metadata": {},
   "outputs": [
    {
     "ename": "TypeError",
     "evalue": "func() got some positional-only arguments passed as keyword arguments: 'pos1'",
     "output_type": "error",
     "traceback": [
      "\u001b[0;31m---------------------------------------------------------------------------\u001b[0m",
      "\u001b[0;31mTypeError\u001b[0m                                 Traceback (most recent call last)",
      "\u001b[0;32m/tmp/ipykernel_5899/1994684195.py\u001b[0m in \u001b[0;36m<module>\u001b[0;34m\u001b[0m\n\u001b[0;32m----> 1\u001b[0;31m \u001b[0mfunc\u001b[0m\u001b[0;34m(\u001b[0m\u001b[0mpos1\u001b[0m\u001b[0;34m=\u001b[0m\u001b[0;34m'a'\u001b[0m\u001b[0;34m,\u001b[0m \u001b[0mkey1\u001b[0m\u001b[0;34m=\u001b[0m\u001b[0;34m'b'\u001b[0m\u001b[0;34m)\u001b[0m\u001b[0;34m\u001b[0m\u001b[0;34m\u001b[0m\u001b[0m\n\u001b[0m",
      "\u001b[0;31mTypeError\u001b[0m: func() got some positional-only arguments passed as keyword arguments: 'pos1'"
     ]
    }
   ],
   "source": [
    "func(pos1='a', key1='b')"
   ]
  },
  {
   "cell_type": "code",
   "execution_count": 31,
   "id": "4bf416a8",
   "metadata": {},
   "outputs": [
    {
     "ename": "TypeError",
     "evalue": "func() takes 1 positional argument but 2 were given",
     "output_type": "error",
     "traceback": [
      "\u001b[0;31m---------------------------------------------------------------------------\u001b[0m",
      "\u001b[0;31mTypeError\u001b[0m                                 Traceback (most recent call last)",
      "\u001b[0;32m/tmp/ipykernel_5899/2541426234.py\u001b[0m in \u001b[0;36m<module>\u001b[0;34m\u001b[0m\n\u001b[0;32m----> 1\u001b[0;31m \u001b[0mfunc\u001b[0m\u001b[0;34m(\u001b[0m\u001b[0;34m'a'\u001b[0m\u001b[0;34m,\u001b[0m \u001b[0;34m'b'\u001b[0m\u001b[0;34m)\u001b[0m\u001b[0;34m\u001b[0m\u001b[0;34m\u001b[0m\u001b[0m\n\u001b[0m",
      "\u001b[0;31mTypeError\u001b[0m: func() takes 1 positional argument but 2 were given"
     ]
    }
   ],
   "source": [
    "func('a', 'b')"
   ]
  },
  {
   "cell_type": "markdown",
   "id": "8045ad18",
   "metadata": {},
   "source": [
    "It is also not possible to mix up the order of positional and keyword argument in the signature. In this case Python will raise a `SyntaxError` since the arguments are used correctly but in the wrong order:"
   ]
  },
  {
   "cell_type": "code",
   "execution_count": 32,
   "id": "d75e6c7c",
   "metadata": {},
   "outputs": [
    {
     "ename": "SyntaxError",
     "evalue": "positional argument follows keyword argument (1935414384.py, line 1)",
     "output_type": "error",
     "traceback": [
      "\u001b[0;36m  File \u001b[0;32m\"/tmp/ipykernel_5899/1935414384.py\"\u001b[0;36m, line \u001b[0;32m1\u001b[0m\n\u001b[0;31m    func(key1='b', 'a')\u001b[0m\n\u001b[0m                      ^\u001b[0m\n\u001b[0;31mSyntaxError\u001b[0m\u001b[0;31m:\u001b[0m positional argument follows keyword argument\n"
     ]
    }
   ],
   "source": [
    "func(key1='b', 'a')"
   ]
  },
  {
   "cell_type": "markdown",
   "id": "5fb6d007",
   "metadata": {},
   "source": [
    "## `*args` and `**kwargs`"
   ]
  },
  {
   "cell_type": "markdown",
   "id": "f813b44c",
   "metadata": {},
   "source": [
    "### `*args`"
   ]
  },
  {
   "cell_type": "markdown",
   "id": "e83f144c",
   "metadata": {},
   "source": [
    "The name of the parameter after the `*` is the name of the tuple that will collect any number of positional arguments. Here we use `args` because is the conventional name for this particular parameter."
   ]
  },
  {
   "cell_type": "code",
   "execution_count": 33,
   "id": "ffadc139",
   "metadata": {},
   "outputs": [],
   "source": [
    "def func(*args):\n",
    "    print(f\"args: {args}\\nargs' type is: {type(args)}\")"
   ]
  },
  {
   "cell_type": "code",
   "execution_count": 34,
   "id": "193c4a7a",
   "metadata": {},
   "outputs": [
    {
     "name": "stdout",
     "output_type": "stream",
     "text": [
      "args: ('a', 'b', 'c')\n",
      "args' type is: <class 'tuple'>\n"
     ]
    }
   ],
   "source": [
    "func('a','b','c')"
   ]
  },
  {
   "cell_type": "markdown",
   "id": "e46ec3db",
   "metadata": {},
   "source": [
    "You can pass any type of object and it will be collected as an element of `args`:"
   ]
  },
  {
   "cell_type": "code",
   "execution_count": 35,
   "id": "e3e25119",
   "metadata": {},
   "outputs": [],
   "source": [
    "def func(*args):\n",
    "    print(f'args: {args}')"
   ]
  },
  {
   "cell_type": "code",
   "execution_count": 36,
   "id": "ba928d14",
   "metadata": {},
   "outputs": [
    {
     "name": "stdout",
     "output_type": "stream",
     "text": [
      "args: ('a', 'b', 'c', ('d', 'e', 'f'), ['g', 'h', 'i'], {'k', 'l', 'j'}, {'m': 1, 'n': 1, 'o': 1})\n"
     ]
    }
   ],
   "source": [
    "func('a', 'b', 'c',('d','e','f'),['g','h','i'],{'j','k','l'},{'m': 1, 'n': 1, 'o': 1})"
   ]
  },
  {
   "cell_type": "markdown",
   "id": "94699fcd",
   "metadata": {},
   "source": [
    "Every parameter after the `*` by default a keyword-only parameter:"
   ]
  },
  {
   "cell_type": "code",
   "execution_count": 37,
   "id": "bc088e3a",
   "metadata": {},
   "outputs": [],
   "source": [
    "def func(*args, key1, key2):\n",
    "    print(f'args: {args}\\nkey1: {key1}\\nkey2: {key2}')"
   ]
  },
  {
   "cell_type": "code",
   "execution_count": 38,
   "id": "74e1759d",
   "metadata": {},
   "outputs": [
    {
     "name": "stdout",
     "output_type": "stream",
     "text": [
      "args: ('a', 'b', 'c')\n",
      "key1: d\n",
      "key2: e\n"
     ]
    }
   ],
   "source": [
    "func('a', 'b', 'c', key1='d', key2='e')"
   ]
  },
  {
   "cell_type": "markdown",
   "id": "d6a1eb8e",
   "metadata": {},
   "source": [
    "You can't use the `*` more than once. If you use it in `*args`, it is already working as a delimiter. If you use it more than once, Python will raise a `SyntaxError`:"
   ]
  },
  {
   "cell_type": "code",
   "execution_count": 39,
   "id": "bea68169",
   "metadata": {},
   "outputs": [
    {
     "ename": "SyntaxError",
     "evalue": "invalid syntax (2322658503.py, line 1)",
     "output_type": "error",
     "traceback": [
      "\u001b[0;36m  File \u001b[0;32m\"/tmp/ipykernel_5899/2322658503.py\"\u001b[0;36m, line \u001b[0;32m1\u001b[0m\n\u001b[0;31m    def func(*args, *, key1, key2):\u001b[0m\n\u001b[0m                    ^\u001b[0m\n\u001b[0;31mSyntaxError\u001b[0m\u001b[0;31m:\u001b[0m invalid syntax\n"
     ]
    }
   ],
   "source": [
    "def func(*args, *, key1, key2):\n",
    "    print(f'args: {args}\\nkey1: {key1}\\nkey2: {key2}')"
   ]
  },
  {
   "cell_type": "markdown",
   "id": "2aa60a27",
   "metadata": {},
   "source": [
    "For the same reason, everything before the `*` of `*args`, would be a mixed parameter:"
   ]
  },
  {
   "cell_type": "code",
   "execution_count": 40,
   "id": "b8a28eee",
   "metadata": {},
   "outputs": [],
   "source": [
    "def func(mxd1, *args):\n",
    "    print(f'mxd1: {mxd1}\\nargs: {args}')"
   ]
  },
  {
   "cell_type": "code",
   "execution_count": 41,
   "id": "092f7026",
   "metadata": {},
   "outputs": [
    {
     "name": "stdout",
     "output_type": "stream",
     "text": [
      "mxd1: a\n",
      "args: ('b', 'c')\n"
     ]
    }
   ],
   "source": [
    "func('a', 'b', 'c')"
   ]
  },
  {
   "cell_type": "code",
   "execution_count": 42,
   "id": "e7f171eb",
   "metadata": {},
   "outputs": [],
   "source": [
    "def func(mxd1, *args, key1, key2):\n",
    "    print(f'mxd1: {mxd1}\\nargs: {args}\\nkey1: {key1}\\nkey2: {key2}')"
   ]
  },
  {
   "cell_type": "code",
   "execution_count": 43,
   "id": "f46aea63",
   "metadata": {},
   "outputs": [
    {
     "name": "stdout",
     "output_type": "stream",
     "text": [
      "mxd1: a\n",
      "args: ('b', 'c')\n",
      "key1: d\n",
      "key2: e\n"
     ]
    }
   ],
   "source": [
    "func('a', 'b', 'c', key1='d', key2='e')"
   ]
  },
  {
   "cell_type": "markdown",
   "id": "1a898c32",
   "metadata": {},
   "source": [
    "If in the function call, you pass `mxd1` as a keyword argument, Python will raise a `SyntaxError` because at least a positional argument is following a keyword argument:"
   ]
  },
  {
   "cell_type": "code",
   "execution_count": 44,
   "id": "ae2b638d",
   "metadata": {},
   "outputs": [
    {
     "ename": "SyntaxError",
     "evalue": "positional argument follows keyword argument (766155032.py, line 1)",
     "output_type": "error",
     "traceback": [
      "\u001b[0;36m  File \u001b[0;32m\"/tmp/ipykernel_5899/766155032.py\"\u001b[0;36m, line \u001b[0;32m1\u001b[0m\n\u001b[0;31m    func(mxd1='a', 'b', 'c', key1='d', key2='e')\u001b[0m\n\u001b[0m                                               ^\u001b[0m\n\u001b[0;31mSyntaxError\u001b[0m\u001b[0;31m:\u001b[0m positional argument follows keyword argument\n"
     ]
    }
   ],
   "source": [
    "func(mxd1='a', 'b', 'c', key1='d', key2='e')"
   ]
  },
  {
   "cell_type": "markdown",
   "id": "44ca3da9",
   "metadata": {},
   "source": [
    "If you rearrange the arguments in order to have all the keywords arguments after the positional arguments, in this specific case Python will still raise a `TypeError` exception. This time because `'b'` is assigned to `mxd1`, `*args` catches `'c'`, and `'a'` will be assigned again to `mxd1`:"
   ]
  },
  {
   "cell_type": "code",
   "execution_count": 45,
   "id": "c21ab9c6",
   "metadata": {},
   "outputs": [
    {
     "ename": "TypeError",
     "evalue": "func() got multiple values for argument 'mxd1'",
     "output_type": "error",
     "traceback": [
      "\u001b[0;31m---------------------------------------------------------------------------\u001b[0m",
      "\u001b[0;31mTypeError\u001b[0m                                 Traceback (most recent call last)",
      "\u001b[0;32m/tmp/ipykernel_5899/3865559585.py\u001b[0m in \u001b[0;36m<module>\u001b[0;34m\u001b[0m\n\u001b[0;32m----> 1\u001b[0;31m \u001b[0mfunc\u001b[0m\u001b[0;34m(\u001b[0m\u001b[0;34m'b'\u001b[0m\u001b[0;34m,\u001b[0m \u001b[0;34m'c'\u001b[0m\u001b[0;34m,\u001b[0m \u001b[0mmxd1\u001b[0m\u001b[0;34m=\u001b[0m\u001b[0;34m'a'\u001b[0m\u001b[0;34m,\u001b[0m \u001b[0mkey1\u001b[0m\u001b[0;34m=\u001b[0m\u001b[0;34m'd'\u001b[0m\u001b[0;34m,\u001b[0m \u001b[0mkey2\u001b[0m\u001b[0;34m=\u001b[0m\u001b[0;34m'e'\u001b[0m\u001b[0;34m)\u001b[0m\u001b[0;34m\u001b[0m\u001b[0;34m\u001b[0m\u001b[0m\n\u001b[0m",
      "\u001b[0;31mTypeError\u001b[0m: func() got multiple values for argument 'mxd1'"
     ]
    }
   ],
   "source": [
    "func('b', 'c', mxd1='a', key1='d', key2='e')"
   ]
  },
  {
   "cell_type": "markdown",
   "id": "23a68c36",
   "metadata": {},
   "source": [
    "Apparently, using a mixed parameter before `*args` forces you to use it as a positional-only parameter. This is because `*args` accepts a list of positional arguments, thereby you're not allowed to use the mixed parameter as a keyword parameter.\n",
    "\n",
    "Using a mixed parameter before `*args` is the same as using a positional-only parameter."
   ]
  },
  {
   "cell_type": "code",
   "execution_count": 46,
   "id": "5dce23a7",
   "metadata": {},
   "outputs": [],
   "source": [
    "def func(pos1, /, *args, key1, key2):\n",
    "    print(f'pos1: {pos1}\\nargs: {args}\\nkey1: {key1}\\nkey2: {key2}')"
   ]
  },
  {
   "cell_type": "code",
   "execution_count": 47,
   "id": "0526be78",
   "metadata": {},
   "outputs": [
    {
     "name": "stdout",
     "output_type": "stream",
     "text": [
      "pos1: a\n",
      "args: ('b', 'c')\n",
      "key1: d\n",
      "key2: e\n"
     ]
    }
   ],
   "source": [
    "func('a', 'b', 'c', key1='d', key2='e')"
   ]
  },
  {
   "cell_type": "markdown",
   "id": "52215d71",
   "metadata": {},
   "source": [
    "### `**kwargs`"
   ]
  },
  {
   "cell_type": "markdown",
   "id": "eca78344",
   "metadata": {},
   "source": [
    "The name of the parameter after the `**` is the name of the dictionary that will collect any number of keyword arguments. Here we use `kwargs` because is the conventional name for this particular parameter.\n",
    "\n",
    "`**kwargs` is __always__ the last parameter in the signature."
   ]
  },
  {
   "cell_type": "code",
   "execution_count": 48,
   "id": "cd008d82",
   "metadata": {},
   "outputs": [],
   "source": [
    "def func(**kwargs):\n",
    "    for k, v in kwargs.items():\n",
    "        print(f'{k}: {v}')\n",
    "        \n",
    "    print(f\"kwargs' type is: {type(kwargs)}\")"
   ]
  },
  {
   "cell_type": "code",
   "execution_count": 49,
   "id": "3912de8e",
   "metadata": {},
   "outputs": [
    {
     "name": "stdout",
     "output_type": "stream",
     "text": [
      "key1: a\n",
      "key2: b\n",
      "key3: c\n",
      "kwargs' type is: <class 'dict'>\n"
     ]
    }
   ],
   "source": [
    "func(key1='a', key2='b', key3='c')"
   ]
  },
  {
   "cell_type": "markdown",
   "id": "997749e4",
   "metadata": {},
   "source": [
    "Since `kwargs` is a dictionary, you can pass whatever object type as a value:"
   ]
  },
  {
   "cell_type": "code",
   "execution_count": 50,
   "id": "36ea62c7",
   "metadata": {},
   "outputs": [],
   "source": [
    "def func(**kwargs):\n",
    "    for k, v in kwargs.items():\n",
    "        print(f'{k}: {v}')"
   ]
  },
  {
   "cell_type": "code",
   "execution_count": 51,
   "id": "aef2feb6",
   "metadata": {},
   "outputs": [
    {
     "name": "stdout",
     "output_type": "stream",
     "text": [
      "key1: a\n",
      "key2: b\n",
      "key3: c\n",
      "key4: ('d', 'e', 'f')\n",
      "key5: ['g', 'h', 'i']\n",
      "key6: {'k', 'l', 'j'}\n",
      "key7: {'m': 1, 'n': 1, 'o': 1}\n"
     ]
    }
   ],
   "source": [
    "func(\n",
    "    key1=\"a\",\n",
    "    key2=\"b\",\n",
    "    key3=\"c\",\n",
    "    key4=(\"d\", \"e\", \"f\"),\n",
    "    key5=[\"g\", \"h\", \"i\"],\n",
    "    key6={\"j\", \"k\", \"l\"},\n",
    "    key7={\"m\": 1, \"n\": 1, \"o\": 1},\n",
    ")"
   ]
  },
  {
   "cell_type": "markdown",
   "id": "41523a36",
   "metadata": {},
   "source": [
    "Before `**kwargs` you can have `*args`, and as expected `*args` will catch all the available positional arguments, and `**kwargs` will catch all the available keyword arguments:"
   ]
  },
  {
   "cell_type": "code",
   "execution_count": 52,
   "id": "74522b5c",
   "metadata": {},
   "outputs": [],
   "source": [
    "def func(*args, **kwargs):\n",
    "    print(f'args: {args}')\n",
    "    for k, v in kwargs.items():\n",
    "        print(f'{k}: {v}')"
   ]
  },
  {
   "cell_type": "code",
   "execution_count": 53,
   "id": "f4904a6e",
   "metadata": {},
   "outputs": [
    {
     "name": "stdout",
     "output_type": "stream",
     "text": [
      "args: ('a', 'b', 'c')\n",
      "key1: d\n",
      "key2: e\n",
      "key3: f\n"
     ]
    }
   ],
   "source": [
    "func('a', 'b', 'c', key1='d', key2='e', key3='f')"
   ]
  },
  {
   "cell_type": "markdown",
   "id": "1251f380",
   "metadata": {},
   "source": [
    "Everything between `*args` and `**kwargs` __must__ be a keyword-only parameter:"
   ]
  },
  {
   "cell_type": "code",
   "execution_count": 54,
   "id": "aee9c18e",
   "metadata": {},
   "outputs": [],
   "source": [
    "def func(*args, key1, key2, **kwargs):\n",
    "    print(f'args: {args}\\nkey1: {key1}\\nkey2: {key2}\\nkwargs: {kwargs}')"
   ]
  },
  {
   "cell_type": "code",
   "execution_count": 55,
   "id": "551546ba",
   "metadata": {},
   "outputs": [
    {
     "name": "stdout",
     "output_type": "stream",
     "text": [
      "args: ('a', 'b', 'c')\n",
      "key1: d\n",
      "key2: e\n",
      "kwargs: {'key3': 'f', 'key4': 'g'}\n"
     ]
    }
   ],
   "source": [
    "func('a', 'b', 'c', key1='d', key2='e', key3='f', key4='g')"
   ]
  },
  {
   "cell_type": "markdown",
   "id": "63a4b6ca",
   "metadata": {},
   "source": [
    "As always, `*args` causes everything that comes before to be treated as a positional-only parameters, even if they are mixed. The function call will raise a `SyntaxError` because there's a positional argument that follows a keyword argument:"
   ]
  },
  {
   "cell_type": "code",
   "execution_count": 56,
   "id": "a4e046b2",
   "metadata": {},
   "outputs": [],
   "source": [
    "def func(mxd1, *args, key1, **kwargs):\n",
    "    print(f'mxd1: {mxd1}\\nargs: {args}\\nkey1: {key1}\\nkwargs: {kwargs}')"
   ]
  },
  {
   "cell_type": "code",
   "execution_count": 57,
   "id": "b0a83f0d",
   "metadata": {},
   "outputs": [
    {
     "ename": "SyntaxError",
     "evalue": "positional argument follows keyword argument (3956868767.py, line 1)",
     "output_type": "error",
     "traceback": [
      "\u001b[0;36m  File \u001b[0;32m\"/tmp/ipykernel_5899/3956868767.py\"\u001b[0;36m, line \u001b[0;32m1\u001b[0m\n\u001b[0;31m    func(mxd1='a', 'b', 'c', 'd', key1='d', key2='e', key3='f', key4='g')\u001b[0m\n\u001b[0m                                                                        ^\u001b[0m\n\u001b[0;31mSyntaxError\u001b[0m\u001b[0;31m:\u001b[0m positional argument follows keyword argument\n"
     ]
    }
   ],
   "source": [
    "func(mxd1='a', 'b', 'c', 'd', key1='d', key2='e', key3='f', key4='g')"
   ]
  },
  {
   "cell_type": "markdown",
   "id": "d1d500ca",
   "metadata": {},
   "source": [
    "Here we have three parameters, one of each kind. Note that as opposed to `*args`, `**kwargs` doesn't force any behaviour on the parameters preceding it. `**kwargs` will catch all the keywords argument that are not `key1`:"
   ]
  },
  {
   "cell_type": "code",
   "execution_count": 58,
   "id": "eff16b17",
   "metadata": {},
   "outputs": [],
   "source": [
    "def func(pos1, /, mxd1, *, key1, **kwargs):\n",
    "    print(f'pos1: {pos1}\\nmxd1: {mxd1}\\nkey1: {key1}\\nkwargs: {kwargs}')"
   ]
  },
  {
   "cell_type": "code",
   "execution_count": 59,
   "id": "2c03ff6a",
   "metadata": {},
   "outputs": [
    {
     "name": "stdout",
     "output_type": "stream",
     "text": [
      "pos1: a\n",
      "mxd1: b\n",
      "key1: c\n",
      "kwargs: {'key2': 'd', 'key3': 'e'}\n"
     ]
    }
   ],
   "source": [
    "func('a', 'b', key1='c', key2='d', key3='e')"
   ]
  },
  {
   "cell_type": "code",
   "execution_count": 60,
   "id": "d43d5c29",
   "metadata": {},
   "outputs": [
    {
     "name": "stdout",
     "output_type": "stream",
     "text": [
      "pos1: a\n",
      "mxd1: b\n",
      "key1: c\n",
      "kwargs: {'key2': 'd', 'key3': 'e'}\n"
     ]
    }
   ],
   "source": [
    "func('a', mxd1='b', key1='c', key2='d', key3='e')"
   ]
  },
  {
   "cell_type": "code",
   "execution_count": 61,
   "id": "8f4491c2",
   "metadata": {},
   "outputs": [
    {
     "name": "stdout",
     "output_type": "stream",
     "text": [
      "pos1: a\n",
      "mxd1: b\n",
      "key1: c\n",
      "kwargs: {'key2': 'd', 'key3': 'e'}\n"
     ]
    }
   ],
   "source": [
    "func('a', key1='c', mxd1='b', key2='d', key3='e')"
   ]
  },
  {
   "cell_type": "markdown",
   "id": "25e1c282",
   "metadata": {},
   "source": [
    "After the last positional-only, mixed used as keyword and keyword only can be used in any order. All the keyword that are not defined in the function signature will be caught by `**kwargs`, even if in the function call they are before the mixed parameters:"
   ]
  },
  {
   "cell_type": "code",
   "execution_count": 62,
   "id": "21b9180f",
   "metadata": {},
   "outputs": [
    {
     "name": "stdout",
     "output_type": "stream",
     "text": [
      "pos1: a\n",
      "mxd1: b\n",
      "key1: c\n",
      "kwargs: {'key2': 'd', 'key3': 'e'}\n"
     ]
    }
   ],
   "source": [
    "func('a', key1='c', key2='d', mxd1='b', key3='e')"
   ]
  },
  {
   "cell_type": "markdown",
   "id": "3cd05aa0",
   "metadata": {},
   "source": [
    "# Default Values"
   ]
  },
  {
   "cell_type": "markdown",
   "id": "229b650e",
   "metadata": {},
   "source": [
    "As stated in the TL;DR section: __every kind of parameter can have a default value defined in the signature. If you choose to assign it, then in the function signature there must be a point where on the left you only have parameters without default values, and on the right you only have parameters with default values or that are one of the following: `*args`, keyword-only, `**kwargs`__."
   ]
  },
  {
   "cell_type": "markdown",
   "id": "563d02f4",
   "metadata": {},
   "source": [
    "First, an example without default values:"
   ]
  },
  {
   "cell_type": "code",
   "execution_count": 63,
   "id": "52db0157",
   "metadata": {},
   "outputs": [],
   "source": [
    "def func(pos1, pos2, /, mxd1, mxd2, *args, key1, key2, **kwargs):\n",
    "    print(f'pos1: {pos1}\\npos2: {pos2}\\nmxd1: {mxd1}\\nmxd2: {mxd2}\\n' \\\n",
    "    f'args: {args}\\nkey1: {key1}\\nkey2: {key2}\\nkwargs: {kwargs}')"
   ]
  },
  {
   "cell_type": "code",
   "execution_count": 64,
   "id": "a646187f",
   "metadata": {},
   "outputs": [
    {
     "name": "stdout",
     "output_type": "stream",
     "text": [
      "pos1: a\n",
      "pos2: b\n",
      "mxd1: c\n",
      "mxd2: d\n",
      "args: ('e', 'f')\n",
      "key1: g\n",
      "key2: h\n",
      "kwargs: {'key3': 'i', 'key4': 'j'}\n"
     ]
    }
   ],
   "source": [
    "func('a', 'b', 'c', 'd', 'e', 'f', key1='g', key2='h', key3='i', key4='j')"
   ]
  },
  {
   "cell_type": "markdown",
   "id": "eb9f3e12",
   "metadata": {},
   "source": [
    "Here's a keyword-only parameter with a default value. Note that after `key1` it follows another keyword-only parameter, `key2`, without any default value. This is possible because keyword-only parameter are not subject to the costraint of having all the parameters with the default value on the right side:"
   ]
  },
  {
   "cell_type": "code",
   "execution_count": 65,
   "id": "75b9e049",
   "metadata": {},
   "outputs": [],
   "source": [
    "def func(pos1, pos2, /, mxd1, mxd2, *args, key1=None, key2, **kwargs):\n",
    "    print(f'pos1: {pos1}\\npos2: {pos2}\\nmxd1: {mxd1}\\nmxd2: {mxd2}\\n' \\\n",
    "    f'args: {args}\\nkey1: {key1}\\nkey2: {key2}\\nkwargs: {kwargs}')"
   ]
  },
  {
   "cell_type": "code",
   "execution_count": 66,
   "id": "c148471e",
   "metadata": {},
   "outputs": [
    {
     "name": "stdout",
     "output_type": "stream",
     "text": [
      "pos1: a\n",
      "pos2: b\n",
      "mxd1: c\n",
      "mxd2: d\n",
      "args: ('e', 'f')\n",
      "key1: None\n",
      "key2: g\n",
      "kwargs: {'key3': 'h', 'key4': 'i'}\n"
     ]
    }
   ],
   "source": [
    "func('a', 'b', 'c', 'd', 'e', 'f', key2='g', key3='h', key4='i')"
   ]
  },
  {
   "cell_type": "markdown",
   "id": "eb2c049a",
   "metadata": {},
   "source": [
    "Here `mxd2` has the default value but it respects the constraint of having only `*args`, keyword-only or `**kwargs` on the right:"
   ]
  },
  {
   "cell_type": "code",
   "execution_count": 67,
   "id": "fedba27b",
   "metadata": {},
   "outputs": [],
   "source": [
    "def func(pos1, pos2, /, mxd1, mxd2=None, *args, key1=None, key2, **kwargs):\n",
    "    print(f'pos1: {pos1}\\npos2: {pos2}\\nmxd1: {mxd1}\\nmxd2: {mxd2}\\n' \\\n",
    "    f'args: {args}\\nkey1: {key1}\\nkey2: {key2}\\nkwargs: {kwargs}')"
   ]
  },
  {
   "cell_type": "code",
   "execution_count": 68,
   "id": "cb5ed679",
   "metadata": {},
   "outputs": [
    {
     "name": "stdout",
     "output_type": "stream",
     "text": [
      "pos1: a\n",
      "pos2: b\n",
      "mxd1: c\n",
      "mxd2: d\n",
      "args: ('e', 'f')\n",
      "key1: None\n",
      "key2: g\n",
      "kwargs: {'key3': 'h', 'key4': 'i'}\n"
     ]
    }
   ],
   "source": [
    "func('a', 'b', 'c', 'd', 'e', 'f', key2='g', key3='h', key4='i')"
   ]
  },
  {
   "cell_type": "markdown",
   "id": "b7761877",
   "metadata": {},
   "source": [
    "If a non-keyword parameter without default value is at the right of one which has it, Python will raise a `SyntaxError`:"
   ]
  },
  {
   "cell_type": "code",
   "execution_count": 69,
   "id": "551e89cb",
   "metadata": {},
   "outputs": [
    {
     "ename": "SyntaxError",
     "evalue": "invalid syntax (3600068600.py, line 1)",
     "output_type": "error",
     "traceback": [
      "\u001b[0;36m  File \u001b[0;32m\"/tmp/ipykernel_5899/3600068600.py\"\u001b[0;36m, line \u001b[0;32m1\u001b[0m\n\u001b[0;31m    def func(pos1, pos2, /, mxd1=None, mxd2, *, key1=None, key2, **kwargs):\u001b[0m\n\u001b[0m                                           ^\u001b[0m\n\u001b[0;31mSyntaxError\u001b[0m\u001b[0;31m:\u001b[0m invalid syntax\n"
     ]
    }
   ],
   "source": [
    "def func(pos1, pos2, /, mxd1=None, mxd2, *, key1=None, key2, **kwargs):\n",
    "    print(f'pos1: {pos1}\\npos2: {pos2}\\nmxd1: {mxd1}\\nmxd2: {mxd2}\\n' \\\n",
    "    f'key1: {key1}\\nkey2: {key2}\\nkwargs: {kwargs}')"
   ]
  },
  {
   "cell_type": "markdown",
   "id": "d93285fe",
   "metadata": {},
   "source": [
    "Here all the parameters, except for the first positional-only, have a default value. This is coherent with the rule mentioned above:"
   ]
  },
  {
   "cell_type": "code",
   "execution_count": 70,
   "id": "d802671a",
   "metadata": {},
   "outputs": [],
   "source": [
    "def func(pos1, pos2=None, /, mxd1=None, mxd2=None, *, key1=None, key2, **kwargs):\n",
    "    print(f'pos1: {pos1}\\npos2: {pos2}\\nmxd1: {mxd1}\\nmxd2: {mxd2}\\n' \\\n",
    "    f'key1: {key1}\\nkey2: {key2}\\nkwargs: {kwargs}')"
   ]
  },
  {
   "cell_type": "code",
   "execution_count": 71,
   "id": "02c4b686",
   "metadata": {},
   "outputs": [
    {
     "name": "stdout",
     "output_type": "stream",
     "text": [
      "pos1: a\n",
      "pos2: None\n",
      "mxd1: None\n",
      "mxd2: None\n",
      "key1: c\n",
      "key2: d\n",
      "kwargs: {'key3': 'e', 'key4': 'f'}\n"
     ]
    }
   ],
   "source": [
    "func('a', key1='c', key2='d', key3='e', key4='f')"
   ]
  },
  {
   "cell_type": "markdown",
   "id": "b2661613",
   "metadata": {},
   "source": [
    "# Bonus"
   ]
  },
  {
   "cell_type": "markdown",
   "id": "5c1d4c1b",
   "metadata": {},
   "source": [
    "Consider the syntax of a `lambda` expression:"
   ]
  },
  {
   "cell_type": "markdown",
   "id": "528150e9",
   "metadata": {},
   "source": [
    "`lambda <parameters-list> : <return-value>`"
   ]
  },
  {
   "cell_type": "markdown",
   "id": "f0d4015a",
   "metadata": {},
   "source": [
    "`<parameters-list>` will behave exactly like the parameters list in a standard function. Everything shown so far, still applies to the parameters list of a `lambda` expression."
   ]
  },
  {
   "cell_type": "markdown",
   "id": "5a80a78e",
   "metadata": {},
   "source": [
    "Since, the `lambda` expression when evaluated will produce a function, if wrap the expression between `()` you can make a function call on the fly:"
   ]
  },
  {
   "cell_type": "markdown",
   "id": "2907b73f",
   "metadata": {},
   "source": [
    "`(<lambda-expression>)(<arguments-list>)`"
   ]
  },
  {
   "cell_type": "markdown",
   "id": "15842a26",
   "metadata": {},
   "source": [
    "Again, the list of arguments is like a standard one when you perform a function call, and all the same rules seen so far still apply."
   ]
  },
  {
   "cell_type": "markdown",
   "id": "7ceff89f",
   "metadata": {},
   "source": [
    "This means that the following `lambda` expression used to make a function call on the fly, is perfectly fine:"
   ]
  },
  {
   "cell_type": "code",
   "execution_count": 72,
   "id": "7ab0aa39",
   "metadata": {},
   "outputs": [
    {
     "data": {
      "text/plain": [
       "('a', 'b', ('c', 'd'), 'e', {'key2': 'f', 'key3': 'g'})"
      ]
     },
     "execution_count": 72,
     "metadata": {},
     "output_type": "execute_result"
    }
   ],
   "source": [
    "(lambda pos1, /, mxd1, *args, key1, **kwargs: (pos1, mxd1, args, key1, kwargs))(\n",
    "    \"a\", \"b\", \"c\", \"d\", key1=\"e\", key2=\"f\", key3=\"g\"\n",
    ")"
   ]
  }
 ],
 "metadata": {
  "kernelspec": {
   "display_name": "Python 3 (ipykernel)",
   "language": "python",
   "name": "python3"
  },
  "language_info": {
   "codemirror_mode": {
    "name": "ipython",
    "version": 3
   },
   "file_extension": ".py",
   "mimetype": "text/x-python",
   "name": "python",
   "nbconvert_exporter": "python",
   "pygments_lexer": "ipython3",
   "version": "3.10.6"
  }
 },
 "nbformat": 4,
 "nbformat_minor": 5
}
