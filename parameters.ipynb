{
 "cells": [
  {
   "cell_type": "markdown",
   "id": "ba6db4a9",
   "metadata": {},
   "source": [
    "# Rationale"
   ]
  },
  {
   "cell_type": "markdown",
   "id": "8687ed76",
   "metadata": {},
   "source": [
    "Often when studying Python you are first introduced to the syntax of function signatures by learning about positional-or-keyword (here called \"mixed\") parameters, then positional-only and keyword-only parameters are usually explained.\n",
    "\n",
    "Probably at some point parameters of arbitrary lengths (`*args` and `**kwargs`) are explained too. Often one is familiar with both of these two syntaxes:\n",
    "\n",
    "`def func(pos1, ..., posn, /, mxd1, ..., mxdn, *, key1, ..., keyn):`\n",
    "\n",
    "and\n",
    "\n",
    "`def func(mxd1, ..., mxdn, *args, **kwargs):`\n",
    "\n",
    "but without knowing the general case that lies behind them.\n",
    "\n",
    "__The purpose of this notebook is to provide concrete examples and to deduce a general syntax that is much more intuitive than the specific individual syntaxes__."
   ]
  },
  {
   "cell_type": "markdown",
   "id": "3bb98f23",
   "metadata": {},
   "source": [
    "# Conventions"
   ]
  },
  {
   "cell_type": "markdown",
   "id": "11605de1",
   "metadata": {},
   "source": [
    "I will be using the following conventions:\n",
    "- `pos<n>` for positional-only parameters, e.g.: `pos1`, `pos2`, etc.\n",
    "- `key<n>` for keyword-only parameters, e.g.: `key1`, `key2`, etc.\n",
    "- `mxd<n>` for positional-or-keyword parameters, i.e. the default ones when in the signature it is not specified neither `/` nor `*`, e.g.: `mxd1`, `mxd2`, etc."
   ]
  },
  {
   "cell_type": "markdown",
   "id": "f9a07dfb",
   "metadata": {},
   "source": [
    "The parameters are those defined in the function signature, the arguments the values passed in the function call."
   ]
  },
  {
   "cell_type": "code",
   "execution_count": null,
   "id": "f545f8c8",
   "metadata": {},
   "outputs": [],
   "source": [
    "def func(par1):\n",
    "    print(f'par1: {par1}')"
   ]
  },
  {
   "cell_type": "code",
   "execution_count": null,
   "id": "e19824c0",
   "metadata": {},
   "outputs": [],
   "source": [
    "arg1 = 'a'\n",
    "func(arg1)"
   ]
  },
  {
   "cell_type": "markdown",
   "id": "4c6398c8",
   "metadata": {},
   "source": [
    "# TL;DR"
   ]
  },
  {
   "cell_type": "markdown",
   "id": "31ac645e",
   "metadata": {},
   "source": [
    "Here's the most general syntax for function signatures:\n",
    "\n",
    "`def func([<positional-only parameters>,] [/,] [<mixed parameters>,] [*[args],] [<keyword-only parameters>,] [**kwargs]):`\n",
    "\n",
    "`/` and `*` are the delimiters for positional-only and keyword-only parameters, respectively. However, the `*` delimiter is also used for specifying `args`(it would be better to use `<args>` meaning it as a placeholder, but since the name `args` is actually  used as a convention, I chose to do so).\n",
    "\n",
    "This means that in the signature you can use the `*` delimiter just once, and if you'd like to have also `args` in addition to keyword-only parameters (or viceversa) you should write `*args`.\n",
    "\n",
    "The intuitive rule for remebering this is: __you can only use the `*` delimiter once, either alone or immediately followed by `args`, and everything that follows `*`, is a keyword-only parameter (except for `**kwargs`)__.\n",
    "\n",
    "Now that this has been clarified: you could also specify default values, which are something totally different and that is frequently confused with the idea of keyword-only parameters.\n",
    "\n",
    "Here, the main rule is: __every kind of parameter can have a default value defined in the signature. If you choose to assign it, then in the function signature there must be a point where on the left you only have parameters without default values, and on the right you only have parameters with default values *or* that are one of the following: `*args`, keyword-only, `**kwargs`.__\n",
    "\n",
    "As a direct implication of this, keyword-only parameters can have or not the default value without any ordering requirements."
   ]
  },
  {
   "cell_type": "markdown",
   "id": "eb595c75",
   "metadata": {},
   "source": [
    "# Parameters"
   ]
  },
  {
   "cell_type": "markdown",
   "id": "96b892cc",
   "metadata": {},
   "source": [
    "## Mixed Parameters"
   ]
  },
  {
   "cell_type": "markdown",
   "id": "2e953374",
   "metadata": {},
   "source": [
    "By default in Python - unless otherwise specified, all parameters are mixed parameters. This means that they can behave as both positional and keyword parameters:"
   ]
  },
  {
   "cell_type": "code",
   "execution_count": null,
   "id": "1467151b",
   "metadata": {},
   "outputs": [],
   "source": [
    "def func(mxd1, mxd2):\n",
    "    print(f'mxd1: {mxd1}\\nmxd2: {mxd2}')"
   ]
  },
  {
   "cell_type": "code",
   "execution_count": null,
   "id": "075b17a7",
   "metadata": {},
   "outputs": [],
   "source": [
    "func('a', 'b')"
   ]
  },
  {
   "cell_type": "markdown",
   "id": "9fd4b5a9",
   "metadata": {},
   "source": [
    "Passing `'a'` and `'b'` will assign them to `mxd1` and `mxd2`, respectively. Both parameters are here used as positional parameters."
   ]
  },
  {
   "cell_type": "markdown",
   "id": "b67b756b",
   "metadata": {},
   "source": [
    "Since they are mixed parameters, when passing values in the function call you can also use keyword arguments:"
   ]
  },
  {
   "cell_type": "code",
   "execution_count": null,
   "id": "1fc25fba",
   "metadata": {},
   "outputs": [],
   "source": [
    "func(mxd1='a', mxd2='b')"
   ]
  },
  {
   "cell_type": "markdown",
   "id": "10b05537",
   "metadata": {},
   "source": [
    "Using them as keyword arguments also allows you to pass them in a mixed order:"
   ]
  },
  {
   "cell_type": "code",
   "execution_count": null,
   "id": "60feec31",
   "metadata": {},
   "outputs": [],
   "source": [
    "func(mxd2='b', mxd1='a')"
   ]
  },
  {
   "cell_type": "markdown",
   "id": "1588f3b8",
   "metadata": {},
   "source": [
    "You can also use a mix of positional and keyword arguments:"
   ]
  },
  {
   "cell_type": "code",
   "execution_count": null,
   "id": "9d7da820",
   "metadata": {},
   "outputs": [],
   "source": [
    "func('a', mxd2='b')"
   ]
  },
  {
   "cell_type": "markdown",
   "id": "45bf2c64",
   "metadata": {},
   "source": [
    "However, all keyword arguments **must** be to the right of positional arguments. If not, Python will raise a `SyntaxError` exception:"
   ]
  },
  {
   "cell_type": "code",
   "execution_count": null,
   "id": "8f0f0465",
   "metadata": {},
   "outputs": [],
   "source": [
    "func(mxd1='a', 'b')"
   ]
  },
  {
   "cell_type": "markdown",
   "id": "863058f7",
   "metadata": {},
   "source": [
    "## Positional-only Parameters"
   ]
  },
  {
   "cell_type": "markdown",
   "id": "0151dd60",
   "metadata": {},
   "source": [
    "If you want to force any number of parameters to be positional-only, write them separated by commas, with a trailing `/` as if it were a parameter:"
   ]
  },
  {
   "cell_type": "code",
   "execution_count": null,
   "id": "bd7d0512",
   "metadata": {},
   "outputs": [],
   "source": [
    "def func(pos1, pos2, /):\n",
    "    print(f'pos1: {pos1}\\npos2: {pos2}')"
   ]
  },
  {
   "cell_type": "code",
   "execution_count": null,
   "id": "4770f8d7",
   "metadata": {},
   "outputs": [],
   "source": [
    "func('a', 'b')"
   ]
  },
  {
   "cell_type": "markdown",
   "id": "42cfe334",
   "metadata": {},
   "source": [
    "Since they are positional-only parameters, if you try to pass them as keyword arguments, Python will raise a `TypeError` exception: "
   ]
  },
  {
   "cell_type": "code",
   "execution_count": null,
   "id": "b9785bb9",
   "metadata": {},
   "outputs": [],
   "source": [
    "def func(pos1, pos2, /):\n",
    "    print(f'pos1: {pos1}\\npos2: {pos2}')"
   ]
  },
  {
   "cell_type": "code",
   "execution_count": null,
   "id": "404ace5a",
   "metadata": {},
   "outputs": [],
   "source": [
    "func(pos1='a', pos2='b')"
   ]
  },
  {
   "cell_type": "markdown",
   "id": "e4a16d2d",
   "metadata": {},
   "source": [
    "After the `/` delimiter, you can specify any number of mixed parameters:"
   ]
  },
  {
   "cell_type": "code",
   "execution_count": null,
   "id": "59872397",
   "metadata": {},
   "outputs": [],
   "source": [
    "def func(pos1, pos2, /, mxd1):\n",
    "    print(f'pos1: {pos1}\\npos2: {pos2}\\nmxd1: {mxd1}')"
   ]
  },
  {
   "cell_type": "code",
   "execution_count": null,
   "id": "c54f46b3",
   "metadata": {},
   "outputs": [],
   "source": [
    "func('a', 'b', 'c')"
   ]
  },
  {
   "cell_type": "code",
   "execution_count": null,
   "id": "a3ccb93e",
   "metadata": {},
   "outputs": [],
   "source": [
    "func('a', 'b', mxd1='c')"
   ]
  },
  {
   "cell_type": "markdown",
   "id": "13ba26a1",
   "metadata": {},
   "source": [
    "## Keyword-only Parameters"
   ]
  },
  {
   "cell_type": "markdown",
   "id": "81285052",
   "metadata": {},
   "source": [
    "If you want to force any number of parameters to be keyword-only, write them separated by commas, with a leading `*` as if it were a parameter:"
   ]
  },
  {
   "cell_type": "code",
   "execution_count": null,
   "id": "345e8290",
   "metadata": {},
   "outputs": [],
   "source": [
    "def func(*, key1, key2):\n",
    "    print(f'key1: {key1}\\nkey2: {key2}')"
   ]
  },
  {
   "cell_type": "code",
   "execution_count": null,
   "id": "1712d9d0",
   "metadata": {},
   "outputs": [],
   "source": [
    "func(key1='a', key2='b')"
   ]
  },
  {
   "cell_type": "markdown",
   "id": "b117b97e",
   "metadata": {},
   "source": [
    "Since they are keyword-only arguments, this allows you to pass them in a mixed order:"
   ]
  },
  {
   "cell_type": "code",
   "execution_count": null,
   "id": "fe6dc33f",
   "metadata": {},
   "outputs": [],
   "source": [
    "func(key2='b', key1='a')"
   ]
  },
  {
   "cell_type": "markdown",
   "id": "e043d8a8",
   "metadata": {},
   "source": [
    "Since they are keyword-only parameters, if you try to pass them as positional arguments, Python will raise a `TypeError` exception: "
   ]
  },
  {
   "cell_type": "code",
   "execution_count": null,
   "id": "9c7059d2",
   "metadata": {},
   "outputs": [],
   "source": [
    "func('a', key2='b')"
   ]
  },
  {
   "cell_type": "markdown",
   "id": "ba93afaf",
   "metadata": {},
   "source": [
    "Before the `*` delimiter, you can specify any number of mixed parameters:"
   ]
  },
  {
   "cell_type": "code",
   "execution_count": null,
   "id": "a8c9a94c",
   "metadata": {},
   "outputs": [],
   "source": [
    "def func(mxd1, *, key1, key2):\n",
    "    print(f'key1: {key1}\\nkey2: {key2}\\nmxd1: {mxd1}')"
   ]
  },
  {
   "cell_type": "code",
   "execution_count": null,
   "id": "fe5ee996",
   "metadata": {},
   "outputs": [],
   "source": [
    "func('a', key1='b', key2='c')"
   ]
  },
  {
   "cell_type": "code",
   "execution_count": null,
   "id": "bc4ad520",
   "metadata": {},
   "outputs": [],
   "source": [
    "func(mxd1='a', key1='b', key2='c')"
   ]
  },
  {
   "cell_type": "markdown",
   "id": "5c504050",
   "metadata": {},
   "source": [
    "If you use the mixed parameter (or the parameters, if they are more than one) as a keyword argument, you can pass all the arguments in a mixed order:"
   ]
  },
  {
   "cell_type": "code",
   "execution_count": null,
   "id": "d24ac12e",
   "metadata": {},
   "outputs": [],
   "source": [
    "func(key1='b', mxd1='a', key2='c')"
   ]
  },
  {
   "cell_type": "markdown",
   "id": "408193a9",
   "metadata": {},
   "source": [
    "##  Tying Them All Together"
   ]
  },
  {
   "cell_type": "markdown",
   "id": "0d953877",
   "metadata": {},
   "source": [
    "Here's a list of examples that summarizes what we've seen so far:"
   ]
  },
  {
   "cell_type": "code",
   "execution_count": null,
   "id": "6ab0f260",
   "metadata": {},
   "outputs": [],
   "source": [
    "def func(pos1, /, mxd1, *, key1):\n",
    "    print(f'pos1: {pos1}\\nmxd1: {mxd1}\\nkey1: {key1}')"
   ]
  },
  {
   "cell_type": "code",
   "execution_count": null,
   "id": "7cf90bde",
   "metadata": {},
   "outputs": [],
   "source": [
    "func('a', 'b', key1='c')"
   ]
  },
  {
   "cell_type": "code",
   "execution_count": null,
   "id": "e9582440",
   "metadata": {},
   "outputs": [],
   "source": [
    "func('a', mxd1='b', key1='c')"
   ]
  },
  {
   "cell_type": "code",
   "execution_count": null,
   "id": "47030b5d",
   "metadata": {},
   "outputs": [],
   "source": [
    "func('a', key1='c', mxd1='b')"
   ]
  },
  {
   "cell_type": "markdown",
   "id": "9c8ce62c",
   "metadata": {},
   "source": [
    "Mixed parameters are not mandatory, and you could just have positional-only and keyword-only using the following syntax:"
   ]
  },
  {
   "cell_type": "code",
   "execution_count": null,
   "id": "5695c0a2",
   "metadata": {},
   "outputs": [],
   "source": [
    "def func(pos1, /, *, key1):\n",
    "    print(f'pos1: {pos1}\\nkey1: {key1}')"
   ]
  },
  {
   "cell_type": "code",
   "execution_count": null,
   "id": "342ace1a",
   "metadata": {},
   "outputs": [],
   "source": [
    "func('a', key1='b')"
   ]
  },
  {
   "cell_type": "markdown",
   "id": "c0d79b41",
   "metadata": {},
   "source": [
    "All the rules above still does apply. So it's not possible to pass a keyword argument to a positional-only parameter, and viceversa. Otherwise, Python will raise a `TypeError` exception:"
   ]
  },
  {
   "cell_type": "code",
   "execution_count": null,
   "id": "cedcf195",
   "metadata": {},
   "outputs": [],
   "source": [
    "func(pos1='a', key1='b')"
   ]
  },
  {
   "cell_type": "code",
   "execution_count": null,
   "id": "4bf416a8",
   "metadata": {},
   "outputs": [],
   "source": [
    "func('a', 'b')"
   ]
  },
  {
   "cell_type": "markdown",
   "id": "8045ad18",
   "metadata": {},
   "source": [
    "It is also not possible to mix up the order of positional and keyword argument in the signature. In this case Python will raise a `SyntaxError` since the arguments are used correctly but in the wrong order:"
   ]
  },
  {
   "cell_type": "code",
   "execution_count": null,
   "id": "d75e6c7c",
   "metadata": {},
   "outputs": [],
   "source": [
    "func(key1='b', 'a')"
   ]
  },
  {
   "cell_type": "markdown",
   "id": "5fb6d007",
   "metadata": {},
   "source": [
    "## `*args` and `**kwargs`"
   ]
  },
  {
   "cell_type": "markdown",
   "id": "f813b44c",
   "metadata": {},
   "source": [
    "### `*args`"
   ]
  },
  {
   "cell_type": "code",
   "execution_count": null,
   "id": "e3e25119",
   "metadata": {},
   "outputs": [],
   "source": [
    "def func(*args):\n",
    "    print(f'args: {args}')"
   ]
  },
  {
   "cell_type": "code",
   "execution_count": null,
   "id": "6280afcb",
   "metadata": {},
   "outputs": [],
   "source": [
    "func('a', 'b', 'c', 'd', 'e')"
   ]
  },
  {
   "cell_type": "code",
   "execution_count": null,
   "id": "6183f9a7",
   "metadata": {},
   "outputs": [],
   "source": [
    "func(args='(a,b)')"
   ]
  },
  {
   "cell_type": "code",
   "execution_count": null,
   "id": "ba928d14",
   "metadata": {},
   "outputs": [],
   "source": [
    "func('a', 'b', 'c',('d','e','f'),['g','h','i'],{'j','k','l'},{'m': 1, 'n': 1, 'o': 1})"
   ]
  },
  {
   "cell_type": "code",
   "execution_count": null,
   "id": "bc088e3a",
   "metadata": {},
   "outputs": [],
   "source": [
    "def func(*args, key1, key2):\n",
    "    print(f'args: {args}\\nkey1: {key1}\\nkey2: {key2}')"
   ]
  },
  {
   "cell_type": "code",
   "execution_count": null,
   "id": "74e1759d",
   "metadata": {},
   "outputs": [],
   "source": [
    "func('a', 'b', 'c', key1='d', key2='e')"
   ]
  },
  {
   "cell_type": "code",
   "execution_count": null,
   "id": "bea68169",
   "metadata": {},
   "outputs": [],
   "source": [
    "def func(*args, *, key1, key2):\n",
    "    print(f'args: {args}\\nkey1: {key1}\\nkey2: {key2}')"
   ]
  },
  {
   "cell_type": "code",
   "execution_count": null,
   "id": "b8a28eee",
   "metadata": {},
   "outputs": [],
   "source": [
    "def func(mxd1, *args, key1, key2):\n",
    "    print(f'mxd1: {mxd1}\\nargs: {args}\\nkey1: {key1}\\nkey2: {key2}')"
   ]
  },
  {
   "cell_type": "code",
   "execution_count": null,
   "id": "092f7026",
   "metadata": {},
   "outputs": [],
   "source": [
    "func('a', 'b', 'c', key1='d', key2='e')"
   ]
  },
  {
   "cell_type": "code",
   "execution_count": null,
   "id": "ae2b638d",
   "metadata": {},
   "outputs": [],
   "source": [
    "func(mxd1='a', 'b', 'c', key1='d', key2='e')"
   ]
  },
  {
   "cell_type": "code",
   "execution_count": null,
   "id": "c21ab9c6",
   "metadata": {},
   "outputs": [],
   "source": [
    "func('b', 'c', mxd1='a', key1='d', key2='e')"
   ]
  },
  {
   "cell_type": "code",
   "execution_count": null,
   "id": "5dce23a7",
   "metadata": {},
   "outputs": [],
   "source": [
    "def func(pos1, /, *args, key1, key2):\n",
    "    print(f'pos1: {pos1}\\nargs: {args}\\nkey1: {key1}\\nkey2: {key2}')"
   ]
  },
  {
   "cell_type": "code",
   "execution_count": null,
   "id": "0526be78",
   "metadata": {},
   "outputs": [],
   "source": [
    "func('a', 'b', 'c', key1='d', key2='e')"
   ]
  },
  {
   "cell_type": "markdown",
   "id": "52215d71",
   "metadata": {},
   "source": [
    "### `**kwargs`"
   ]
  },
  {
   "cell_type": "code",
   "execution_count": null,
   "id": "cd008d82",
   "metadata": {},
   "outputs": [],
   "source": [
    "def func(**kwargs):\n",
    "    print(f'kwargs: {kwargs}')"
   ]
  },
  {
   "cell_type": "code",
   "execution_count": null,
   "id": "3912de8e",
   "metadata": {},
   "outputs": [],
   "source": [
    "func(key1='a', key2='b', key3='c')"
   ]
  },
  {
   "cell_type": "code",
   "execution_count": null,
   "id": "74522b5c",
   "metadata": {},
   "outputs": [],
   "source": [
    "def func(*args, **kwargs):\n",
    "    print(f'args: {args}\\nkwargs: {kwargs}')"
   ]
  },
  {
   "cell_type": "code",
   "execution_count": null,
   "id": "f4904a6e",
   "metadata": {},
   "outputs": [],
   "source": [
    "func('a', 'b', 'c', key1='d', key2='e', key3='f')"
   ]
  },
  {
   "cell_type": "code",
   "execution_count": null,
   "id": "aee9c18e",
   "metadata": {},
   "outputs": [],
   "source": [
    "def func(*args, key1, key2, **kwargs):\n",
    "    print(f'args: {args}\\nkey1: {key1}\\nkey2: {key2}\\nkwargs: {kwargs}')"
   ]
  },
  {
   "cell_type": "code",
   "execution_count": null,
   "id": "551546ba",
   "metadata": {},
   "outputs": [],
   "source": [
    "func('a', 'b', 'c', key1='d', key2='e', key3='f', key4='g')"
   ]
  },
  {
   "cell_type": "code",
   "execution_count": null,
   "id": "a4e046b2",
   "metadata": {},
   "outputs": [],
   "source": [
    "def func(mxd1, *args, key1, **kwargs):\n",
    "    print(f'mxd1: {mxd1}\\nargs: {args}\\nkey1: {key1}\\nkwargs: {kwargs}')"
   ]
  },
  {
   "cell_type": "code",
   "execution_count": null,
   "id": "b0a83f0d",
   "metadata": {},
   "outputs": [],
   "source": [
    "func(mxd1='a', 'b', 'c', 'd', key1='d', key2='e', key3='f', key4='g')"
   ]
  },
  {
   "cell_type": "code",
   "execution_count": null,
   "id": "eff16b17",
   "metadata": {},
   "outputs": [],
   "source": [
    "def func(pos1, /, mxd1, *, key1, **kwargs):\n",
    "    print(f'pos1: {pos1}\\nmxd1: {mxd1}\\nkey1: {key1}\\nkwargs: {kwargs}')"
   ]
  },
  {
   "cell_type": "code",
   "execution_count": null,
   "id": "2c03ff6a",
   "metadata": {},
   "outputs": [],
   "source": [
    "func('a', 'b', key1='c', key2='d', key3='e')"
   ]
  },
  {
   "cell_type": "code",
   "execution_count": null,
   "id": "d43d5c29",
   "metadata": {},
   "outputs": [],
   "source": [
    "func('a', mxd1='b', key1='c', key2='d', key3='e')"
   ]
  },
  {
   "cell_type": "code",
   "execution_count": null,
   "id": "8f4491c2",
   "metadata": {},
   "outputs": [],
   "source": [
    "func('a', key1='c', mxd1='b', key2='d', key3='e')"
   ]
  },
  {
   "cell_type": "code",
   "execution_count": null,
   "id": "21b9180f",
   "metadata": {},
   "outputs": [],
   "source": [
    "func('a', key1='c', key2='d', mxd1='b', key3='e')"
   ]
  },
  {
   "cell_type": "markdown",
   "id": "3cd05aa0",
   "metadata": {},
   "source": [
    "# Default Values"
   ]
  },
  {
   "cell_type": "code",
   "execution_count": null,
   "id": "52db0157",
   "metadata": {},
   "outputs": [],
   "source": [
    "def func(pos1, pos2, /, mxd1, mxd2, *args, key1, key2, **kwargs):\n",
    "    print(f'pos1: {pos1}\\npos2: {pos2}\\nmxd1: {mxd1}\\nmxd2: {mxd2}\\n' \\\n",
    "    f'args: {args}\\nkey1: {key1}\\nkey2: {key2}\\nkwargs: {kwargs}')"
   ]
  },
  {
   "cell_type": "code",
   "execution_count": null,
   "id": "a646187f",
   "metadata": {},
   "outputs": [],
   "source": [
    "func('a', 'b', 'c', 'd', 'e', 'f', key1='g', key2='h', key3='i', key4='j')"
   ]
  },
  {
   "cell_type": "code",
   "execution_count": null,
   "id": "75b9e049",
   "metadata": {},
   "outputs": [],
   "source": [
    "def func(pos1, pos2, /, mxd1, mxd2, *args, key1=None, key2, **kwargs):\n",
    "    print(f'pos1: {pos1}\\npos2: {pos2}\\nmxd1: {mxd1}\\nmxd2: {mxd2}\\n' \\\n",
    "    f'args: {args}\\nkey1: {key1}\\nkey2: {key2}\\nkwargs: {kwargs}')"
   ]
  },
  {
   "cell_type": "code",
   "execution_count": null,
   "id": "c148471e",
   "metadata": {},
   "outputs": [],
   "source": [
    "func('a', 'b', 'c', 'd', 'e', 'f', key2='g', key3='h', key4='i')"
   ]
  },
  {
   "cell_type": "code",
   "execution_count": null,
   "id": "fedba27b",
   "metadata": {},
   "outputs": [],
   "source": [
    "def func(pos1, pos2, /, mxd1, mxd2=None, *args, key1=None, key2, **kwargs):\n",
    "    print(f'pos1: {pos1}\\npos2: {pos2}\\nmxd1: {mxd1}\\nmxd2: {mxd2}\\n' \\\n",
    "    f'args: {args}\\nkey1: {key1}\\nkey2: {key2}\\nkwargs: {kwargs}')"
   ]
  },
  {
   "cell_type": "code",
   "execution_count": null,
   "id": "cb5ed679",
   "metadata": {},
   "outputs": [],
   "source": [
    "func('a', 'b', 'c', 'd', 'e', 'f', key2='g', key3='h', key4='i')"
   ]
  },
  {
   "cell_type": "code",
   "execution_count": null,
   "id": "551e89cb",
   "metadata": {},
   "outputs": [],
   "source": [
    "def func(pos1, pos2, /, mxd1=None, mxd2, *, key1=None, key2, **kwargs):\n",
    "    print(f'pos1: {pos1}\\npos2: {pos2}\\nmxd1: {mxd1}\\nmxd2: {mxd2}\\n' \\\n",
    "    f'key1: {key1}\\nkey2: {key2}\\nkwargs: {kwargs}')"
   ]
  },
  {
   "cell_type": "code",
   "execution_count": null,
   "id": "d802671a",
   "metadata": {},
   "outputs": [],
   "source": [
    "def func(pos1, pos2, /, mxd1=None, mxd2=None, *, key1=None, key2, **kwargs):\n",
    "    print(f'pos1: {pos1}\\npos2: {pos2}\\nmxd1: {mxd1}\\nmxd2: {mxd2}\\n' \\\n",
    "    f'key1: {key1}\\nkey2: {key2}\\nkwargs: {kwargs}')"
   ]
  },
  {
   "cell_type": "code",
   "execution_count": null,
   "id": "02c4b686",
   "metadata": {},
   "outputs": [],
   "source": [
    "func('a', 'b', key1='c', key2='d', key3='e', key4='f')"
   ]
  },
  {
   "cell_type": "markdown",
   "id": "b2661613",
   "metadata": {},
   "source": [
    "# Bonus"
   ]
  },
  {
   "cell_type": "code",
   "execution_count": null,
   "id": "7ab0aa39",
   "metadata": {},
   "outputs": [],
   "source": [
    "(lambda pos1, /, mxd1, *args, key1, **kwargs: (pos1, mxd1, args, key1, kwargs))(\n",
    "    \"a\", \"b\", \"c\", \"d\", key1=\"e\", key2=\"f\", key3=\"g\"\n",
    ")"
   ]
  }
 ],
 "metadata": {
  "kernelspec": {
   "display_name": "Python 3 (ipykernel)",
   "language": "python",
   "name": "python3"
  },
  "language_info": {
   "codemirror_mode": {
    "name": "ipython",
    "version": 3
   },
   "file_extension": ".py",
   "mimetype": "text/x-python",
   "name": "python",
   "nbconvert_exporter": "python",
   "pygments_lexer": "ipython3",
   "version": "3.10.6"
  }
 },
 "nbformat": 4,
 "nbformat_minor": 5
}
