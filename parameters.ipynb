{
 "cells": [
  {
   "cell_type": "markdown",
   "id": "ba6db4a9",
   "metadata": {
    "tags": []
   },
   "source": [
    "# Rationale"
   ]
  },
  {
   "cell_type": "markdown",
   "id": "8687ed76",
   "metadata": {},
   "source": [
    "Often, when studying Python, you are first introduced to the syntax of function signatures by learning about positional-or-keyword (here called \"mixed\") parameters. Then, positional-only and keyword-only parameters are usually explained.\n",
    "\n",
    "Probably at some point, parameters of arbitrary lengths (`*args` and `**kwargs`) are explained too. Often one is familiar with both of these two syntaxes:\n",
    "\n",
    "```python\n",
    "def func(pos1, ..., posn, /, mxd1, ..., mxdn, *, key1, ..., keyn):\n",
    "    ...\n",
    "```\n",
    "\n",
    "and\n",
    "\n",
    "```python\n",
    "def func(mxd1, ..., mxdn, *args, **kwargs):\n",
    "    ...\n",
    "```\n",
    "\n",
    "but without knowing the general case that lies behind them.\n",
    "\n",
    "__The purpose of this notebook is to provide concrete examples and deduce a general syntax that is much more intuitive than the specific individual syntaxes__."
   ]
  },
  {
   "cell_type": "markdown",
   "id": "3bb98f23",
   "metadata": {
    "tags": []
   },
   "source": [
    "# Conventions"
   ]
  },
  {
   "cell_type": "markdown",
   "id": "11605de1",
   "metadata": {},
   "source": [
    "The following conventions will be used:\n",
    "- `pos<n>` for positional-only parameters, e.g., `pos1`, `pos2`, etc.\n",
    "- `key<n>` for keyword-only parameters, e.g., `key1`, `key2`, etc.\n",
    "- `mxd<n>` for positional-or-keyword parameters, i.e., the default ones when in the signature it is not specified neither `/` nor `*`, e.g., `mxd1`, `mxd2`, etc.\n",
    "\n",
    "The parameters are those defined in the function signature, while the arguments are the values passed in the function call."
   ]
  },
  {
   "cell_type": "code",
   "execution_count": 1,
   "id": "f545f8c8",
   "metadata": {},
   "outputs": [
    {
     "name": "stdout",
     "output_type": "stream",
     "text": [
      "par1: a\n"
     ]
    }
   ],
   "source": [
    "def func(par1):\n",
    "    print(f'par1: {par1}')\n",
    "\n",
    "\n",
    "arg1 = 'a'\n",
    "func(arg1)"
   ]
  },
  {
   "cell_type": "markdown",
   "id": "4c6398c8",
   "metadata": {
    "tags": []
   },
   "source": [
    "# TL;DR"
   ]
  },
  {
   "cell_type": "markdown",
   "id": "31ac645e",
   "metadata": {},
   "source": [
    "Here's the most general syntax for function signatures:\n",
    "\n",
    "```python\n",
    "def func([<positional-only parameters>,] [/,] [<mixed parameters>,] [*[args],] [<keyword-only parameters>,] [**kwargs]):\n",
    "```\n",
    "\n",
    "`/` and `*` are the delimiters for positional-only and keyword-only parameters, respectively. However, the `*` delimiter is also used for specifying `args` (it would be better to use `<args>` as a placeholder, but since the name `args` is commonly used as a convention, we'll follow that).\n",
    "\n",
    "This means that in the signature, you can use the `*` delimiter just once, and if you'd like to include `args` in addition to keyword-only parameters (or vice versa), you should write `*args`.\n",
    "\n",
    "The intuitive rule for remembering this is: **you can only use the `*` delimiter once, either alone or immediately followed by `args`, and everything that follows `*` is a keyword-only parameter (except for `**kwargs`)**.\n",
    "\n",
    "Now that this has been clarified: you can also specify default values, which are something totally different and often confused with the concept of keyword-only parameters.\n",
    "\n",
    "Here, the main rule is: **every kind of parameter can have a default value defined in the signature. If you choose to assign it, then in the function signature there must be a point where on the left you only have parameters without default values, and on the right you only have parameters with default values *or* that are one of the following: `*args`, keyword-only, `**kwargs`.**\n",
    "\n",
    "As a direct implication of this, keyword-only parameters can have default values or not, without any specific ordering requirements."
   ]
  },
  {
   "cell_type": "markdown",
   "id": "eb595c75",
   "metadata": {
    "tags": []
   },
   "source": [
    "# Parameters"
   ]
  },
  {
   "cell_type": "markdown",
   "id": "96b892cc",
   "metadata": {
    "tags": []
   },
   "source": [
    "## Mixed Parameters"
   ]
  },
  {
   "cell_type": "markdown",
   "id": "2e953374",
   "metadata": {},
   "source": [
    "By default in Python, unless otherwise specified, all parameters are mixed parameters. This means that they can behave as both positional and keyword parameters:"
   ]
  },
  {
   "cell_type": "code",
   "execution_count": 2,
   "id": "1467151b",
   "metadata": {},
   "outputs": [],
   "source": [
    "def func(mxd1, mxd2):\n",
    "    print(f'mxd1: {mxd1}\\nmxd2: {mxd2}')"
   ]
  },
  {
   "cell_type": "code",
   "execution_count": 3,
   "id": "075b17a7",
   "metadata": {},
   "outputs": [
    {
     "name": "stdout",
     "output_type": "stream",
     "text": [
      "mxd1: a\n",
      "mxd2: b\n"
     ]
    }
   ],
   "source": [
    "func('a', 'b')"
   ]
  },
  {
   "cell_type": "markdown",
   "id": "9fd4b5a9",
   "metadata": {},
   "source": [
    "Passing `'a'` and `'b'` will assign them to `mxd1` and `mxd2`, respectively. Both parameters are here used as positional parameters."
   ]
  },
  {
   "cell_type": "markdown",
   "id": "b67b756b",
   "metadata": {},
   "source": [
    "Since they are mixed parameters, you can also use keyword arguments when passing values in the function call:"
   ]
  },
  {
   "cell_type": "code",
   "execution_count": 4,
   "id": "1fc25fba",
   "metadata": {},
   "outputs": [
    {
     "name": "stdout",
     "output_type": "stream",
     "text": [
      "mxd1: a\n",
      "mxd2: b\n"
     ]
    }
   ],
   "source": [
    "func(mxd1='a', mxd2='b')"
   ]
  },
  {
   "cell_type": "markdown",
   "id": "10b05537",
   "metadata": {},
   "source": [
    "Using them as keyword arguments also allows you to pass them in any order:"
   ]
  },
  {
   "cell_type": "code",
   "execution_count": 5,
   "id": "60feec31",
   "metadata": {},
   "outputs": [
    {
     "name": "stdout",
     "output_type": "stream",
     "text": [
      "mxd1: a\n",
      "mxd2: b\n"
     ]
    }
   ],
   "source": [
    "func(mxd2='b', mxd1='a')"
   ]
  },
  {
   "cell_type": "markdown",
   "id": "1588f3b8",
   "metadata": {},
   "source": [
    "You can also mix positional and keyword arguments:"
   ]
  },
  {
   "cell_type": "code",
   "execution_count": 6,
   "id": "9d7da820",
   "metadata": {},
   "outputs": [
    {
     "name": "stdout",
     "output_type": "stream",
     "text": [
      "mxd1: a\n",
      "mxd2: b\n"
     ]
    }
   ],
   "source": [
    "func('a', mxd2='b')"
   ]
  },
  {
   "cell_type": "markdown",
   "id": "45bf2c64",
   "metadata": {},
   "source": [
    "However, all keyword arguments **must** be placed to the right of positional arguments. If not, Python will raise a `SyntaxError` exception:"
   ]
  },
  {
   "cell_type": "code",
   "execution_count": 7,
   "id": "8f0f0465",
   "metadata": {},
   "outputs": [
    {
     "name": "stdout",
     "output_type": "stream",
     "text": [
      "positional argument follows keyword argument (<string>, line 1)\n"
     ]
    }
   ],
   "source": [
    "try:\n",
    "    exec(\"func(mxd1='a', 'b')\")\n",
    "except SyntaxError as e:\n",
    "    print(e)"
   ]
  },
  {
   "cell_type": "markdown",
   "id": "863058f7",
   "metadata": {
    "tags": []
   },
   "source": [
    "## Positional-only Parameters"
   ]
  },
  {
   "cell_type": "markdown",
   "id": "0151dd60",
   "metadata": {},
   "source": [
    "If you want to force any number of parameters to be positional-only, write them separated by commas, followed by a trailing `/`, as if it were an additional parameter:"
   ]
  },
  {
   "cell_type": "code",
   "execution_count": 8,
   "id": "bd7d0512",
   "metadata": {},
   "outputs": [],
   "source": [
    "def func(pos1, pos2, /):\n",
    "    print(f'pos1: {pos1}\\npos2: {pos2}')"
   ]
  },
  {
   "cell_type": "code",
   "execution_count": 9,
   "id": "4770f8d7",
   "metadata": {},
   "outputs": [
    {
     "name": "stdout",
     "output_type": "stream",
     "text": [
      "pos1: a\n",
      "pos2: b\n"
     ]
    }
   ],
   "source": [
    "func('a', 'b')"
   ]
  },
  {
   "cell_type": "markdown",
   "id": "42cfe334",
   "metadata": {},
   "source": [
    "Since they are positional-only parameters, attempting to pass them as keyword arguments will result in Python raising a `TypeError` exception:"
   ]
  },
  {
   "cell_type": "code",
   "execution_count": 10,
   "id": "b9785bb9",
   "metadata": {},
   "outputs": [],
   "source": [
    "def func(pos1, pos2, /):\n",
    "    print(f'pos1: {pos1}\\npos2: {pos2}')"
   ]
  },
  {
   "cell_type": "code",
   "execution_count": 11,
   "id": "404ace5a",
   "metadata": {},
   "outputs": [
    {
     "name": "stdout",
     "output_type": "stream",
     "text": [
      "func() got some positional-only arguments passed as keyword arguments: 'pos1, pos2'\n"
     ]
    }
   ],
   "source": [
    "try:\n",
    "    func(pos1='a', pos2='b')\n",
    "except TypeError as e:\n",
    "    print(e)"
   ]
  },
  {
   "cell_type": "markdown",
   "id": "e4a16d2d",
   "metadata": {},
   "source": [
    "After the `/` delimiter, you can specify any number of mixed parameters."
   ]
  },
  {
   "cell_type": "code",
   "execution_count": 12,
   "id": "59872397",
   "metadata": {},
   "outputs": [],
   "source": [
    "def func(pos1, pos2, /, mxd1):\n",
    "    print(f'pos1: {pos1}\\npos2: {pos2}\\nmxd1: {mxd1}')"
   ]
  },
  {
   "cell_type": "code",
   "execution_count": 13,
   "id": "c54f46b3",
   "metadata": {},
   "outputs": [
    {
     "name": "stdout",
     "output_type": "stream",
     "text": [
      "pos1: a\n",
      "pos2: b\n",
      "mxd1: c\n"
     ]
    }
   ],
   "source": [
    "func('a', 'b', 'c')"
   ]
  },
  {
   "cell_type": "code",
   "execution_count": 14,
   "id": "a3ccb93e",
   "metadata": {},
   "outputs": [
    {
     "name": "stdout",
     "output_type": "stream",
     "text": [
      "pos1: a\n",
      "pos2: b\n",
      "mxd1: c\n"
     ]
    }
   ],
   "source": [
    "func('a', 'b', mxd1='c')"
   ]
  },
  {
   "cell_type": "markdown",
   "id": "13ba26a1",
   "metadata": {
    "tags": []
   },
   "source": [
    "## Keyword-only Parameters"
   ]
  },
  {
   "cell_type": "markdown",
   "id": "81285052",
   "metadata": {},
   "source": [
    "If you want to force any number of parameters to be keyword-only, write them separated by commas, preceded by a `*`, as if it were a parameter:"
   ]
  },
  {
   "cell_type": "code",
   "execution_count": 15,
   "id": "345e8290",
   "metadata": {},
   "outputs": [],
   "source": [
    "def func(*, key1, key2):\n",
    "    print(f'key1: {key1}\\nkey2: {key2}')"
   ]
  },
  {
   "cell_type": "code",
   "execution_count": 16,
   "id": "1712d9d0",
   "metadata": {},
   "outputs": [
    {
     "name": "stdout",
     "output_type": "stream",
     "text": [
      "key1: a\n",
      "key2: b\n"
     ]
    }
   ],
   "source": [
    "func(key1='a', key2='b')"
   ]
  },
  {
   "cell_type": "markdown",
   "id": "b117b97e",
   "metadata": {},
   "source": [
    "Since they are keyword-only arguments, you can pass them in any order:"
   ]
  },
  {
   "cell_type": "code",
   "execution_count": 17,
   "id": "fe6dc33f",
   "metadata": {},
   "outputs": [
    {
     "name": "stdout",
     "output_type": "stream",
     "text": [
      "key1: a\n",
      "key2: b\n"
     ]
    }
   ],
   "source": [
    "func(key2='b', key1='a')"
   ]
  },
  {
   "cell_type": "markdown",
   "id": "e043d8a8",
   "metadata": {},
   "source": [
    "Since they are keyword-only parameters, attempting to pass them as positional arguments will result in Python raising a `TypeError` exception:"
   ]
  },
  {
   "cell_type": "code",
   "execution_count": 18,
   "id": "9c7059d2",
   "metadata": {},
   "outputs": [
    {
     "name": "stdout",
     "output_type": "stream",
     "text": [
      "func() takes 0 positional arguments but 1 positional argument (and 1 keyword-only argument) were given\n"
     ]
    }
   ],
   "source": [
    "try:\n",
    "    func('a', key2='b')\n",
    "except TypeError as e:\n",
    "    print(e)"
   ]
  },
  {
   "cell_type": "markdown",
   "id": "ba93afaf",
   "metadata": {},
   "source": [
    "Before the `*` delimiter, you can specify any number of mixed parameters:"
   ]
  },
  {
   "cell_type": "code",
   "execution_count": 19,
   "id": "a8c9a94c",
   "metadata": {},
   "outputs": [],
   "source": [
    "def func(mxd1, *, key1, key2):\n",
    "    print(f'key1: {key1}\\nkey2: {key2}\\nmxd1: {mxd1}')"
   ]
  },
  {
   "cell_type": "code",
   "execution_count": 20,
   "id": "fe5ee996",
   "metadata": {},
   "outputs": [
    {
     "name": "stdout",
     "output_type": "stream",
     "text": [
      "key1: b\n",
      "key2: c\n",
      "mxd1: a\n"
     ]
    }
   ],
   "source": [
    "func('a', key1='b', key2='c')"
   ]
  },
  {
   "cell_type": "code",
   "execution_count": 21,
   "id": "bc4ad520",
   "metadata": {},
   "outputs": [
    {
     "name": "stdout",
     "output_type": "stream",
     "text": [
      "key1: b\n",
      "key2: c\n",
      "mxd1: a\n"
     ]
    }
   ],
   "source": [
    "func(mxd1='a', key1='b', key2='c')"
   ]
  },
  {
   "cell_type": "markdown",
   "id": "5c504050",
   "metadata": {},
   "source": [
    "If you use the mixed parameter(s) as keyword arguments, you can pass all the arguments in any order:"
   ]
  },
  {
   "cell_type": "code",
   "execution_count": 22,
   "id": "d24ac12e",
   "metadata": {},
   "outputs": [
    {
     "name": "stdout",
     "output_type": "stream",
     "text": [
      "key1: b\n",
      "key2: c\n",
      "mxd1: a\n"
     ]
    }
   ],
   "source": [
    "func(key1='b', mxd1='a', key2='c')"
   ]
  },
  {
   "cell_type": "markdown",
   "id": "408193a9",
   "metadata": {
    "tags": []
   },
   "source": [
    "##  Tying Them All Together"
   ]
  },
  {
   "cell_type": "markdown",
   "id": "0d953877",
   "metadata": {},
   "source": [
    "Here's a list of examples that summarize what we've seen so far:"
   ]
  },
  {
   "cell_type": "code",
   "execution_count": 23,
   "id": "6ab0f260",
   "metadata": {},
   "outputs": [],
   "source": [
    "def func(pos1, /, mxd1, *, key1):\n",
    "    print(f'pos1: {pos1}\\nmxd1: {mxd1}\\nkey1: {key1}')"
   ]
  },
  {
   "cell_type": "code",
   "execution_count": 24,
   "id": "7cf90bde",
   "metadata": {},
   "outputs": [
    {
     "name": "stdout",
     "output_type": "stream",
     "text": [
      "pos1: a\n",
      "mxd1: b\n",
      "key1: c\n"
     ]
    }
   ],
   "source": [
    "func('a', 'b', key1='c')"
   ]
  },
  {
   "cell_type": "code",
   "execution_count": 25,
   "id": "e9582440",
   "metadata": {},
   "outputs": [
    {
     "name": "stdout",
     "output_type": "stream",
     "text": [
      "pos1: a\n",
      "mxd1: b\n",
      "key1: c\n"
     ]
    }
   ],
   "source": [
    "func('a', mxd1='b', key1='c')"
   ]
  },
  {
   "cell_type": "code",
   "execution_count": 26,
   "id": "47030b5d",
   "metadata": {},
   "outputs": [
    {
     "name": "stdout",
     "output_type": "stream",
     "text": [
      "pos1: a\n",
      "mxd1: b\n",
      "key1: c\n"
     ]
    }
   ],
   "source": [
    "func('a', key1='c', mxd1='b')"
   ]
  },
  {
   "cell_type": "markdown",
   "id": "9c8ce62c",
   "metadata": {},
   "source": [
    "Mixed parameters are not mandatory; you can have just positional-only and keyword-only parameters using the following syntax:"
   ]
  },
  {
   "cell_type": "code",
   "execution_count": 27,
   "id": "5695c0a2",
   "metadata": {},
   "outputs": [],
   "source": [
    "def func(pos1, /, *, key1):\n",
    "    print(f'pos1: {pos1}\\nkey1: {key1}')"
   ]
  },
  {
   "cell_type": "code",
   "execution_count": 28,
   "id": "342ace1a",
   "metadata": {},
   "outputs": [
    {
     "name": "stdout",
     "output_type": "stream",
     "text": [
      "pos1: a\n",
      "key1: b\n"
     ]
    }
   ],
   "source": [
    "func('a', key1='b')"
   ]
  },
  {
   "cell_type": "markdown",
   "id": "c0d79b41",
   "metadata": {},
   "source": [
    "All the above rules still apply. Therefore, it's not possible to pass a keyword argument to a positional-only parameter, and vice versa. Otherwise, Python will raise a `TypeError` exception:"
   ]
  },
  {
   "cell_type": "code",
   "execution_count": 29,
   "id": "cedcf195",
   "metadata": {},
   "outputs": [
    {
     "name": "stdout",
     "output_type": "stream",
     "text": [
      "func() got some positional-only arguments passed as keyword arguments: 'pos1'\n"
     ]
    }
   ],
   "source": [
    "try:\n",
    "    func(pos1='a', key1='b')\n",
    "except TypeError as e:\n",
    "    print(e)"
   ]
  },
  {
   "cell_type": "code",
   "execution_count": 30,
   "id": "4bf416a8",
   "metadata": {},
   "outputs": [
    {
     "name": "stdout",
     "output_type": "stream",
     "text": [
      "func() takes 1 positional argument but 2 were given\n"
     ]
    }
   ],
   "source": [
    "try:\n",
    "    func('a', 'b')\n",
    "except TypeError as e:\n",
    "    print(e)"
   ]
  },
  {
   "cell_type": "markdown",
   "id": "8045ad18",
   "metadata": {},
   "source": [
    "It's also not possible to mix up the order of positional and keyword arguments in the function call. In this case, Python will raise a `SyntaxError` since the arguments, though used correctly, are in the wrong order:"
   ]
  },
  {
   "cell_type": "code",
   "execution_count": 31,
   "id": "d75e6c7c",
   "metadata": {},
   "outputs": [
    {
     "name": "stdout",
     "output_type": "stream",
     "text": [
      "positional argument follows keyword argument (<string>, line 1)\n"
     ]
    }
   ],
   "source": [
    "try:\n",
    "    exec(\"func(key1='b', 'a')\")\n",
    "except SyntaxError as e:\n",
    "    print(e)"
   ]
  },
  {
   "cell_type": "markdown",
   "id": "5fb6d007",
   "metadata": {
    "tags": []
   },
   "source": [
    "## `*args` and `**kwargs`"
   ]
  },
  {
   "cell_type": "markdown",
   "id": "f813b44c",
   "metadata": {
    "tags": []
   },
   "source": [
    "### `*args`"
   ]
  },
  {
   "cell_type": "markdown",
   "id": "e83f144c",
   "metadata": {},
   "source": [
    "The name of the parameter following the `*` represents the tuple that will collect any number of positional arguments. Here, we use `args` because it is the conventional name for this particular parameter."
   ]
  },
  {
   "cell_type": "code",
   "execution_count": 32,
   "id": "ffadc139",
   "metadata": {},
   "outputs": [],
   "source": [
    "def func(*args):\n",
    "    print(f\"args: {args}\\nargs' type is: {type(args)}\")"
   ]
  },
  {
   "cell_type": "code",
   "execution_count": 33,
   "id": "193c4a7a",
   "metadata": {},
   "outputs": [
    {
     "name": "stdout",
     "output_type": "stream",
     "text": [
      "args: ('a', 'b', 'c')\n",
      "args' type is: <class 'tuple'>\n"
     ]
    }
   ],
   "source": [
    "func('a', 'b', 'c')"
   ]
  },
  {
   "cell_type": "markdown",
   "id": "e46ec3db",
   "metadata": {},
   "source": [
    "You can pass any type of object, and it will be collected as an element of `args`:"
   ]
  },
  {
   "cell_type": "code",
   "execution_count": 34,
   "id": "e3e25119",
   "metadata": {},
   "outputs": [],
   "source": [
    "def func(*args):\n",
    "    print(f'args: {args}')"
   ]
  },
  {
   "cell_type": "code",
   "execution_count": 35,
   "id": "ba928d14",
   "metadata": {},
   "outputs": [
    {
     "name": "stdout",
     "output_type": "stream",
     "text": [
      "args: ('a', 'b', 'c', ('d', 'e', 'f'), ['g', 'h', 'i'], {'j', 'k', 'l'}, {'m': 1, 'n': 1, 'o': 1})\n"
     ]
    }
   ],
   "source": [
    "func(\n",
    "    'a',\n",
    "    'b',\n",
    "    'c',\n",
    "    ('d', 'e', 'f'),\n",
    "    ['g', 'h', 'i'],\n",
    "    {'j', 'k', 'l'},\n",
    "    {'m': 1, 'n': 1, 'o': 1},\n",
    ")"
   ]
  },
  {
   "cell_type": "markdown",
   "id": "94699fcd",
   "metadata": {},
   "source": [
    "Every parameter following the `*` is, by default, a keyword-only parameter:"
   ]
  },
  {
   "cell_type": "code",
   "execution_count": 36,
   "id": "bc088e3a",
   "metadata": {},
   "outputs": [],
   "source": [
    "def func(*args, key1, key2):\n",
    "    print(f'args: {args}\\nkey1: {key1}\\nkey2: {key2}')"
   ]
  },
  {
   "cell_type": "code",
   "execution_count": 37,
   "id": "74e1759d",
   "metadata": {},
   "outputs": [
    {
     "name": "stdout",
     "output_type": "stream",
     "text": [
      "args: ('a', 'b', 'c')\n",
      "key1: d\n",
      "key2: e\n"
     ]
    }
   ],
   "source": [
    "func('a', 'b', 'c', key1='d', key2='e')"
   ]
  },
  {
   "cell_type": "markdown",
   "id": "d6a1eb8e",
   "metadata": {},
   "source": [
    "You can't use the `*` more than once. If you use it in `*args`, it is already functioning as a delimiter. If you use it more than once, Python will raise a `SyntaxError`:"
   ]
  },
  {
   "cell_type": "code",
   "execution_count": 38,
   "id": "bea68169",
   "metadata": {
    "tags": []
   },
   "outputs": [
    {
     "name": "stdout",
     "output_type": "stream",
     "text": [
      "invalid syntax (<string>, line 2)\n"
     ]
    }
   ],
   "source": [
    "try:\n",
    "    exec(\n",
    "        \"\"\"\n",
    "def func(*args, *, key1, key2):\n",
    "    print(f'args: {args}\\\\nkey1: {key1}\\\\nkey2: {key2}')\n",
    "    \"\"\"\n",
    "    )\n",
    "except SyntaxError as e:\n",
    "    print(e)"
   ]
  },
  {
   "cell_type": "markdown",
   "id": "2aa60a27",
   "metadata": {},
   "source": [
    "For the same reason, everything before the `*` in `*args` would be considered a mixed parameter:"
   ]
  },
  {
   "cell_type": "code",
   "execution_count": 39,
   "id": "b8a28eee",
   "metadata": {},
   "outputs": [],
   "source": [
    "def func(mxd1, *args):\n",
    "    print(f'mxd1: {mxd1}\\nargs: {args}')"
   ]
  },
  {
   "cell_type": "code",
   "execution_count": 40,
   "id": "092f7026",
   "metadata": {},
   "outputs": [
    {
     "name": "stdout",
     "output_type": "stream",
     "text": [
      "mxd1: a\n",
      "args: ('b', 'c')\n"
     ]
    }
   ],
   "source": [
    "func('a', 'b', 'c')"
   ]
  },
  {
   "cell_type": "code",
   "execution_count": 41,
   "id": "e7f171eb",
   "metadata": {},
   "outputs": [],
   "source": [
    "def func(mxd1, *args, key1, key2):\n",
    "    print(f'mxd1: {mxd1}\\nargs: {args}\\nkey1: {key1}\\nkey2: {key2}')"
   ]
  },
  {
   "cell_type": "code",
   "execution_count": 42,
   "id": "f46aea63",
   "metadata": {},
   "outputs": [
    {
     "name": "stdout",
     "output_type": "stream",
     "text": [
      "mxd1: a\n",
      "args: ('b', 'c')\n",
      "key1: d\n",
      "key2: e\n"
     ]
    }
   ],
   "source": [
    "func('a', 'b', 'c', key1='d', key2='e')"
   ]
  },
  {
   "cell_type": "markdown",
   "id": "1a898c32",
   "metadata": {},
   "source": [
    "If, in the function call, you pass `mxd1` as a keyword argument, Python will raise a `SyntaxError` because at least one positional argument is following a keyword argument:"
   ]
  },
  {
   "cell_type": "code",
   "execution_count": 43,
   "id": "ae2b638d",
   "metadata": {},
   "outputs": [
    {
     "name": "stdout",
     "output_type": "stream",
     "text": [
      "positional argument follows keyword argument (<string>, line 1)\n"
     ]
    }
   ],
   "source": [
    "try:\n",
    "    exec(\"func(mxd1='a', 'b', 'c', key1='d', key2='e')\")\n",
    "except SyntaxError as e:\n",
    "    print(e)"
   ]
  },
  {
   "cell_type": "markdown",
   "id": "44ca3da9",
   "metadata": {},
   "source": [
    "If you rearrange the arguments to have all the keyword arguments after the positional arguments, in this specific case Python will still raise a `TypeError` exception. This is because `'b'` is assigned to `mxd1`, `*args` catches `'c'`, and `'a'` is assigned again to `mxd1`:"
   ]
  },
  {
   "cell_type": "code",
   "execution_count": 44,
   "id": "c21ab9c6",
   "metadata": {},
   "outputs": [
    {
     "name": "stdout",
     "output_type": "stream",
     "text": [
      "func() got multiple values for argument 'mxd1'\n"
     ]
    }
   ],
   "source": [
    "try:\n",
    "    func('b', 'c', mxd1='a', key1='d', key2='e')\n",
    "except TypeError as e:\n",
    "    print(e)"
   ]
  },
  {
   "cell_type": "markdown",
   "id": "23a68c36",
   "metadata": {},
   "source": [
    "Apparently, using a mixed parameter before `*args` effectively forces you to use it as a positional-only parameter. This is because `*args` is designed to accept a list of positional arguments, meaning you're not allowed to use the mixed parameter as a keyword parameter.\n",
    "\n",
    "Hence, using a mixed parameter before `*args` is functionally equivalent to using a positional-only parameter."
   ]
  },
  {
   "cell_type": "code",
   "execution_count": 45,
   "id": "5dce23a7",
   "metadata": {},
   "outputs": [],
   "source": [
    "def func(pos1, /, *args, key1, key2):\n",
    "    print(f'pos1: {pos1}\\nargs: {args}\\nkey1: {key1}\\nkey2: {key2}')"
   ]
  },
  {
   "cell_type": "code",
   "execution_count": 46,
   "id": "0526be78",
   "metadata": {},
   "outputs": [
    {
     "name": "stdout",
     "output_type": "stream",
     "text": [
      "pos1: a\n",
      "args: ('b', 'c')\n",
      "key1: d\n",
      "key2: e\n"
     ]
    }
   ],
   "source": [
    "func('a', 'b', 'c', key1='d', key2='e')"
   ]
  },
  {
   "cell_type": "markdown",
   "id": "52215d71",
   "metadata": {
    "tags": []
   },
   "source": [
    "### `**kwargs`"
   ]
  },
  {
   "cell_type": "markdown",
   "id": "eca78344",
   "metadata": {},
   "source": [
    "The name of the parameter following the `**` represents the dictionary that will collect any number of keyword arguments. Here, we use `kwargs` because it is the conventional name for this particular parameter.\n",
    "\n",
    "`**kwargs` is **always** the last parameter in the signature."
   ]
  },
  {
   "cell_type": "code",
   "execution_count": 47,
   "id": "cd008d82",
   "metadata": {},
   "outputs": [],
   "source": [
    "def func(**kwargs):\n",
    "    for k, v in kwargs.items():\n",
    "        print(f'{k}: {v}')\n",
    "\n",
    "    print(f\"kwargs' type is: {type(kwargs)}\")"
   ]
  },
  {
   "cell_type": "code",
   "execution_count": 48,
   "id": "3912de8e",
   "metadata": {},
   "outputs": [
    {
     "name": "stdout",
     "output_type": "stream",
     "text": [
      "key1: a\n",
      "key2: b\n",
      "key3: c\n",
      "kwargs' type is: <class 'dict'>\n"
     ]
    }
   ],
   "source": [
    "func(key1='a', key2='b', key3='c')"
   ]
  },
  {
   "cell_type": "markdown",
   "id": "997749e4",
   "metadata": {},
   "source": [
    "Since `kwargs` is a dictionary, you can pass any object type as a value:"
   ]
  },
  {
   "cell_type": "code",
   "execution_count": 49,
   "id": "36ea62c7",
   "metadata": {},
   "outputs": [],
   "source": [
    "def func(**kwargs):\n",
    "    for k, v in kwargs.items():\n",
    "        print(f'{k}: {v}')"
   ]
  },
  {
   "cell_type": "code",
   "execution_count": 50,
   "id": "aef2feb6",
   "metadata": {},
   "outputs": [
    {
     "name": "stdout",
     "output_type": "stream",
     "text": [
      "key1: a\n",
      "key2: b\n",
      "key3: c\n",
      "key4: ('d', 'e', 'f')\n",
      "key5: ['g', 'h', 'i']\n",
      "key6: {'j', 'k', 'l'}\n",
      "key7: {'m': 1, 'n': 1, 'o': 1}\n"
     ]
    }
   ],
   "source": [
    "func(\n",
    "    key1='a',\n",
    "    key2='b',\n",
    "    key3='c',\n",
    "    key4=('d', 'e', 'f'),\n",
    "    key5=['g', 'h', 'i'],\n",
    "    key6={'j', 'k', 'l'},\n",
    "    key7={'m': 1, 'n': 1, 'o': 1},\n",
    ")"
   ]
  },
  {
   "cell_type": "markdown",
   "id": "41523a36",
   "metadata": {},
   "source": [
    "Before `**kwargs`, you can include `*args`, and as expected, `*args` will catch all the available positional arguments, while `**kwargs` will catch all the available keyword arguments:"
   ]
  },
  {
   "cell_type": "code",
   "execution_count": 51,
   "id": "74522b5c",
   "metadata": {},
   "outputs": [],
   "source": [
    "def func(*args, **kwargs):\n",
    "    print(f'args: {args}')\n",
    "    for k, v in kwargs.items():\n",
    "        print(f'{k}: {v}')"
   ]
  },
  {
   "cell_type": "code",
   "execution_count": 52,
   "id": "f4904a6e",
   "metadata": {},
   "outputs": [
    {
     "name": "stdout",
     "output_type": "stream",
     "text": [
      "args: ('a', 'b', 'c')\n",
      "key1: d\n",
      "key2: e\n",
      "key3: f\n"
     ]
    }
   ],
   "source": [
    "func('a', 'b', 'c', key1='d', key2='e', key3='f')"
   ]
  },
  {
   "cell_type": "markdown",
   "id": "1251f380",
   "metadata": {},
   "source": [
    "Everything between `*args` and `**kwargs` **must** be a keyword-only parameter:"
   ]
  },
  {
   "cell_type": "code",
   "execution_count": 53,
   "id": "aee9c18e",
   "metadata": {},
   "outputs": [],
   "source": [
    "def func(*args, key1, key2, **kwargs):\n",
    "    print(f'args: {args}\\nkey1: {key1}\\nkey2: {key2}\\nkwargs: {kwargs}')"
   ]
  },
  {
   "cell_type": "code",
   "execution_count": 54,
   "id": "551546ba",
   "metadata": {},
   "outputs": [
    {
     "name": "stdout",
     "output_type": "stream",
     "text": [
      "args: ('a', 'b', 'c')\n",
      "key1: d\n",
      "key2: e\n",
      "kwargs: {'key3': 'f', 'key4': 'g'}\n"
     ]
    }
   ],
   "source": [
    "func('a', 'b', 'c', key1='d', key2='e', key3='f', key4='g')"
   ]
  },
  {
   "cell_type": "markdown",
   "id": "63a4b6ca",
   "metadata": {},
   "source": [
    "As always, `*args` causes everything before it to be treated as positional-only parameters, even if they are mixed. The function call will raise a `SyntaxError` because there is a positional argument following a keyword argument:"
   ]
  },
  {
   "cell_type": "code",
   "execution_count": 55,
   "id": "a4e046b2",
   "metadata": {},
   "outputs": [],
   "source": [
    "def func(mxd1, *args, key1, **kwargs):\n",
    "    print(f'mxd1: {mxd1}\\nargs: {args}\\nkey1: {key1}\\nkwargs: {kwargs}')"
   ]
  },
  {
   "cell_type": "code",
   "execution_count": 56,
   "id": "b0a83f0d",
   "metadata": {},
   "outputs": [
    {
     "name": "stdout",
     "output_type": "stream",
     "text": [
      "positional argument follows keyword argument (<string>, line 1)\n"
     ]
    }
   ],
   "source": [
    "try:\n",
    "    exec(\n",
    "        \"func(mxd1='a', 'b', 'c', 'd', key1='d', key2='e', key3='f', key4='g')\"\n",
    "    )\n",
    "except SyntaxError as e:\n",
    "    print(e)"
   ]
  },
  {
   "cell_type": "markdown",
   "id": "d1d500ca",
   "metadata": {},
   "source": [
    "Here we have three parameters, one of each kind. Note that, unlike `*args`, `**kwargs` doesn't impose any behavior on the parameters preceding it. `**kwargs` will catch all the keyword arguments that are not `key1`:"
   ]
  },
  {
   "cell_type": "code",
   "execution_count": 57,
   "id": "eff16b17",
   "metadata": {},
   "outputs": [],
   "source": [
    "def func(pos1, /, mxd1, *, key1, **kwargs):\n",
    "    print(f'pos1: {pos1}\\nmxd1: {mxd1}\\nkey1: {key1}\\nkwargs: {kwargs}')"
   ]
  },
  {
   "cell_type": "code",
   "execution_count": 58,
   "id": "2c03ff6a",
   "metadata": {},
   "outputs": [
    {
     "name": "stdout",
     "output_type": "stream",
     "text": [
      "pos1: a\n",
      "mxd1: b\n",
      "key1: c\n",
      "kwargs: {'key2': 'd', 'key3': 'e'}\n"
     ]
    }
   ],
   "source": [
    "func('a', 'b', key1='c', key2='d', key3='e')"
   ]
  },
  {
   "cell_type": "code",
   "execution_count": 59,
   "id": "d43d5c29",
   "metadata": {},
   "outputs": [
    {
     "name": "stdout",
     "output_type": "stream",
     "text": [
      "pos1: a\n",
      "mxd1: b\n",
      "key1: c\n",
      "kwargs: {'key2': 'd', 'key3': 'e'}\n"
     ]
    }
   ],
   "source": [
    "func('a', mxd1='b', key1='c', key2='d', key3='e')"
   ]
  },
  {
   "cell_type": "code",
   "execution_count": 60,
   "id": "8f4491c2",
   "metadata": {},
   "outputs": [
    {
     "name": "stdout",
     "output_type": "stream",
     "text": [
      "pos1: a\n",
      "mxd1: b\n",
      "key1: c\n",
      "kwargs: {'key2': 'd', 'key3': 'e'}\n"
     ]
    }
   ],
   "source": [
    "func('a', key1='c', mxd1='b', key2='d', key3='e')"
   ]
  },
  {
   "cell_type": "markdown",
   "id": "25e1c282",
   "metadata": {},
   "source": [
    "After the last positional-only parameter, mixed parameters used as keywords and keyword-only parameters can be used in any order. Any keywords that are not defined in the function signature will be caught by `**kwargs`, even if they appear before the mixed parameters in the function call:"
   ]
  },
  {
   "cell_type": "code",
   "execution_count": 61,
   "id": "21b9180f",
   "metadata": {},
   "outputs": [
    {
     "name": "stdout",
     "output_type": "stream",
     "text": [
      "pos1: a\n",
      "mxd1: b\n",
      "key1: c\n",
      "kwargs: {'key2': 'd', 'key3': 'e'}\n"
     ]
    }
   ],
   "source": [
    "func('a', key1='c', key2='d', mxd1='b', key3='e')"
   ]
  },
  {
   "cell_type": "markdown",
   "id": "3cd05aa0",
   "metadata": {
    "tags": []
   },
   "source": [
    "# Default Values"
   ]
  },
  {
   "cell_type": "markdown",
   "id": "229b650e",
   "metadata": {},
   "source": [
    "As stated in the TL;DR section: **every kind of parameter can have a default value defined in the signature. If you choose to assign it, then in the function signature there must be a point where on the left you only have parameters without default values, and on the right you only have parameters with default values or those that are one of the following: `*args`, keyword-only, `**kwargs`**."
   ]
  },
  {
   "cell_type": "markdown",
   "id": "563d02f4",
   "metadata": {},
   "source": [
    "First, here's an example without default values:"
   ]
  },
  {
   "cell_type": "code",
   "execution_count": 62,
   "id": "52db0157",
   "metadata": {},
   "outputs": [],
   "source": [
    "def func(pos1, pos2, /, mxd1, mxd2, *args, key1, key2, **kwargs):\n",
    "    print(\n",
    "        f'pos1: {pos1}\\npos2: {pos2}\\nmxd1: {mxd1}\\nmxd2: {mxd2}\\n'\n",
    "        f'args: {args}\\nkey1: {key1}\\nkey2: {key2}\\nkwargs: {kwargs}'\n",
    "    )"
   ]
  },
  {
   "cell_type": "code",
   "execution_count": 63,
   "id": "a646187f",
   "metadata": {},
   "outputs": [
    {
     "name": "stdout",
     "output_type": "stream",
     "text": [
      "pos1: a\n",
      "pos2: b\n",
      "mxd1: c\n",
      "mxd2: d\n",
      "args: ('e', 'f')\n",
      "key1: g\n",
      "key2: h\n",
      "kwargs: {'key3': 'i', 'key4': 'j'}\n"
     ]
    }
   ],
   "source": [
    "func('a', 'b', 'c', 'd', 'e', 'f', key1='g', key2='h', key3='i', key4='j')"
   ]
  },
  {
   "cell_type": "markdown",
   "id": "eb9f3e12",
   "metadata": {},
   "source": [
    "Here's a keyword-only parameter with a default value. Note that after `key1`, another keyword-only parameter, `key2`, follows without any default value. This is possible because keyword-only parameters are not subject to the constraint of having all the parameters with default values on the right side:"
   ]
  },
  {
   "cell_type": "code",
   "execution_count": 64,
   "id": "75b9e049",
   "metadata": {},
   "outputs": [],
   "source": [
    "def func(pos1, pos2, /, mxd1, mxd2, *args, key1=None, key2, **kwargs):\n",
    "    print(\n",
    "        f'pos1: {pos1}\\npos2: {pos2}\\nmxd1: {mxd1}\\nmxd2: {mxd2}\\n'\n",
    "        f'args: {args}\\nkey1: {key1}\\nkey2: {key2}\\nkwargs: {kwargs}'\n",
    "    )"
   ]
  },
  {
   "cell_type": "code",
   "execution_count": 65,
   "id": "c148471e",
   "metadata": {},
   "outputs": [
    {
     "name": "stdout",
     "output_type": "stream",
     "text": [
      "pos1: a\n",
      "pos2: b\n",
      "mxd1: c\n",
      "mxd2: d\n",
      "args: ('e', 'f')\n",
      "key1: None\n",
      "key2: g\n",
      "kwargs: {'key3': 'h', 'key4': 'i'}\n"
     ]
    }
   ],
   "source": [
    "func('a', 'b', 'c', 'd', 'e', 'f', key2='g', key3='h', key4='i')"
   ]
  },
  {
   "cell_type": "markdown",
   "id": "eb2c049a",
   "metadata": {},
   "source": [
    "Here, `mxd2` has a default value but still respects the constraint of having only `*args`, keyword-only, or `**kwargs` on the right:"
   ]
  },
  {
   "cell_type": "code",
   "execution_count": 66,
   "id": "fedba27b",
   "metadata": {},
   "outputs": [],
   "source": [
    "def func(pos1, pos2, /, mxd1, mxd2=None, *args, key1=None, key2, **kwargs):\n",
    "    print(\n",
    "        f'pos1: {pos1}\\npos2: {pos2}\\nmxd1: {mxd1}\\nmxd2: {mxd2}\\n'\n",
    "        f'args: {args}\\nkey1: {key1}\\nkey2: {key2}\\nkwargs: {kwargs}'\n",
    "    )"
   ]
  },
  {
   "cell_type": "code",
   "execution_count": 67,
   "id": "cb5ed679",
   "metadata": {},
   "outputs": [
    {
     "name": "stdout",
     "output_type": "stream",
     "text": [
      "pos1: a\n",
      "pos2: b\n",
      "mxd1: c\n",
      "mxd2: d\n",
      "args: ('e', 'f')\n",
      "key1: None\n",
      "key2: g\n",
      "kwargs: {'key3': 'h', 'key4': 'i'}\n"
     ]
    }
   ],
   "source": [
    "func('a', 'b', 'c', 'd', 'e', 'f', key2='g', key3='h', key4='i')"
   ]
  },
  {
   "cell_type": "markdown",
   "id": "b7761877",
   "metadata": {},
   "source": [
    "If a non-keyword parameter without a default value is placed to the right of one that has a default value, Python will raise a `SyntaxError`:"
   ]
  },
  {
   "cell_type": "code",
   "execution_count": 68,
   "id": "551e89cb",
   "metadata": {},
   "outputs": [
    {
     "name": "stdout",
     "output_type": "stream",
     "text": [
      "unterminated string literal (detected at line 3) (<string>, line 3)\n"
     ]
    }
   ],
   "source": [
    "try:\n",
    "    exec(\n",
    "        \"\"\"\n",
    "def func(pos1, pos2, /, mxd1=None, mxd2, *, key1=None, key2, **kwargs):\n",
    "    print(f'pos1: {pos1}\\npos2: {pos2}\\nmxd1: {mxd1}\\nmxd2: {mxd2}\\n' \\\n",
    "    f'key1: {key1}\\nkey2: {key2}\\nkwargs: {kwargs}')\n",
    "\"\"\"\n",
    "    )\n",
    "except SyntaxError as e:\n",
    "    print(e)"
   ]
  },
  {
   "cell_type": "markdown",
   "id": "d93285fe",
   "metadata": {},
   "source": [
    "Here, all the parameters, except for the first positional-only one, have a default value. This is consistent with the rule mentioned above:"
   ]
  },
  {
   "cell_type": "code",
   "execution_count": 69,
   "id": "d802671a",
   "metadata": {},
   "outputs": [],
   "source": [
    "def func(\n",
    "    pos1, pos2=None, /, mxd1=None, mxd2=None, *, key1=None, key2, **kwargs\n",
    "):\n",
    "    print(\n",
    "        f'pos1: {pos1}\\npos2: {pos2}\\nmxd1: {mxd1}\\nmxd2: {mxd2}\\n'\n",
    "        f'key1: {key1}\\nkey2: {key2}\\nkwargs: {kwargs}'\n",
    "    )"
   ]
  },
  {
   "cell_type": "code",
   "execution_count": 70,
   "id": "02c4b686",
   "metadata": {},
   "outputs": [
    {
     "name": "stdout",
     "output_type": "stream",
     "text": [
      "pos1: a\n",
      "pos2: None\n",
      "mxd1: None\n",
      "mxd2: None\n",
      "key1: c\n",
      "key2: d\n",
      "kwargs: {'key3': 'e', 'key4': 'f'}\n"
     ]
    }
   ],
   "source": [
    "func('a', key1='c', key2='d', key3='e', key4='f')"
   ]
  },
  {
   "cell_type": "markdown",
   "id": "b2661613",
   "metadata": {
    "tags": []
   },
   "source": [
    "# Bonus"
   ]
  },
  {
   "cell_type": "markdown",
   "id": "5c1d4c1b",
   "metadata": {},
   "source": [
    "Consider the syntax of a `lambda` expression:\n",
    "\n",
    "```python\n",
    "lambda <parameters-list> : <return-value>\n",
    "```\n",
    "\n",
    "The `<parameters-list>` will behave exactly like the parameter list in a standard function. Everything shown so far still applies to the parameter list of a `lambda` expression.\n",
    "\n",
    "Since the `lambda` expression, when evaluated, produces a function, if you wrap the expression in `()`, you can make a function call on the fly:\n",
    "\n",
    "```python\n",
    "(<lambda-expression>)(<arguments-list>)\n",
    "```\n",
    "\n",
    "Again, the list of arguments is like a standard one when performing a function call, and all the same rules seen so far still apply."
   ]
  },
  {
   "cell_type": "markdown",
   "id": "7ceff89f",
   "metadata": {},
   "source": [
    "This means that the following `lambda` expression, used to make a function call on the fly, is perfectly fine:"
   ]
  },
  {
   "cell_type": "code",
   "execution_count": 71,
   "id": "7ab0aa39",
   "metadata": {
    "tags": []
   },
   "outputs": [
    {
     "data": {
      "text/plain": [
       "('a', 'b', ('c', 'd'), 'e', {'key2': 'f', 'key3': 'g'})"
      ]
     },
     "execution_count": 71,
     "metadata": {},
     "output_type": "execute_result"
    }
   ],
   "source": [
    "(\n",
    "    lambda pos1, /, mxd1, *args, key1, **kwargs: (\n",
    "        pos1,\n",
    "        mxd1,\n",
    "        args,\n",
    "        key1,\n",
    "        kwargs,\n",
    "    )\n",
    ")('a', 'b', 'c', 'd', key1='e', key2='f', key3='g')"
   ]
  }
 ],
 "metadata": {
  "kernelspec": {
   "display_name": "Python 3 (ipykernel)",
   "language": "python",
   "name": "python3"
  },
  "language_info": {
   "codemirror_mode": {
    "name": "ipython",
    "version": 3
   },
   "file_extension": ".py",
   "mimetype": "text/x-python",
   "name": "python",
   "nbconvert_exporter": "python",
   "pygments_lexer": "ipython3",
   "version": "3.10.12"
  }
 },
 "nbformat": 4,
 "nbformat_minor": 5
}
