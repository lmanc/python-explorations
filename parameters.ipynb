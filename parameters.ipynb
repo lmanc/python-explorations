{
 "cells": [
  {
   "cell_type": "markdown",
   "id": "ba6db4a9",
   "metadata": {},
   "source": [
    "# Rationale"
   ]
  },
  {
   "cell_type": "markdown",
   "id": "8687ed76",
   "metadata": {},
   "source": [
    "Often when studying Python you are first introduced to the syntax of function signatures by learning about positional-or-keyword (here called \"mixed\") parameters, then positional-only and keyword-only parameters are usually explained.\n",
    "\n",
    "Probably at some point parameters of arbitrary lengths (`*args` and `**kwargs`) are explained too. Often one is be familiar with both of these two syntaxes:\n",
    "\n",
    "`def func(pos1, ..., posn, /, mxd1, ..., mxdn, *, key1, ..., keyn):`\n",
    "\n",
    "and\n",
    "\n",
    "`def func(mxd1, ..., mxdn, *args, **kwargs):`\n",
    "\n",
    "but without knowing the general case which includes them.\n",
    "\n",
    "__The purpose of this notebook is to provide concrete examples and to deduce a general syntax that is much more intuitive than the specific individual syntaxes__."
   ]
  },
  {
   "cell_type": "markdown",
   "id": "3bb98f23",
   "metadata": {},
   "source": [
    "## Conventions"
   ]
  },
  {
   "cell_type": "markdown",
   "id": "11605de1",
   "metadata": {},
   "source": [
    "I will be using the following conventions:\n",
    "- `pos<n>` for positional-only parameters, e.g.: `pos1`, `pos2`, etc.\n",
    "- `key<n>` for keyword-only parameters, e.g.: `key1`, `key2`, etc.\n",
    "- `mxd<n>` for positional-or-keyword parameters, i.e. the default ones when in the signature it is not specified neither `/` nor `*`, e.g.: `mxd1`, `mxd2`, etc."
   ]
  },
  {
   "cell_type": "markdown",
   "id": "f9a07dfb",
   "metadata": {},
   "source": [
    "The parameters are those defined in the function signature, the arguments the values passed in the function call."
   ]
  },
  {
   "cell_type": "code",
   "execution_count": 2,
   "id": "e59c6f81",
   "metadata": {},
   "outputs": [],
   "source": [
    "def func(par1):\n",
    "    print(f'par1: {par1}')"
   ]
  },
  {
   "cell_type": "code",
   "execution_count": 3,
   "id": "ec76c039",
   "metadata": {},
   "outputs": [
    {
     "name": "stdout",
     "output_type": "stream",
     "text": [
      "par1: a\n"
     ]
    }
   ],
   "source": [
    "arg1 = 'a'\n",
    "func(arg1)"
   ]
  },
  {
   "cell_type": "markdown",
   "id": "4c6398c8",
   "metadata": {},
   "source": [
    "# TL;DR"
   ]
  },
  {
   "cell_type": "markdown",
   "id": "31ac645e",
   "metadata": {},
   "source": [
    "Here's the most general syntax for function signatures:\n",
    "\n",
    "`def func([<positional-only parameters>,] [/,] [<mixed parameters>,] [*[args],] [<keyword-only parameters>,] [**kwargs]):`\n",
    "\n",
    "`/` and `*` are the delimiters for positional-only and keyword-only parameters, respectively. However, the `*` delimiter is also used for specifying `args`(it would be better to use `<args>` meaning it as a placeholder, but since the name `args` is actually  used as a convention, I chose to do so).\n",
    "\n",
    "This means that in the signature you can use the `*` delimiter just once, and if you'd like to have also `args` in addition to keyword-only parameters (or viceversa) you should write `*args`.\n",
    "\n",
    "The intuitive rule for remebering this is: __you can only use the `*` delimiter once, either alone or immediately followed by `args`, and everything that follows `*`, is a keyword-only parameter (except for `**kwargs`)__.\n",
    "\n",
    "Now that this has been clarified: you could also specify default values, which are something totally different and that is frequently confused with the idea of keyword-only parameters.\n",
    "\n",
    "Here, the main rule is: __every kind of parameter can have a default value defined in the signature. If you choose to assign it, then in the function signature there must be a point where on the left you only have parameters without default values, and on the right you only have parameters with default values *or* that are one of the following: `*args`, keyword-only, `**kwargs`.__\n",
    "\n",
    "As a direct implication of this, keyword-only parameters can have or not the default value without any ordering requirements."
   ]
  },
  {
   "cell_type": "markdown",
   "id": "96b892cc",
   "metadata": {},
   "source": [
    "## Mixed Parameters"
   ]
  },
  {
   "cell_type": "markdown",
   "id": "2e953374",
   "metadata": {},
   "source": [
    "By default in Python - unless otherwise specified, all parameters are mixed parameters. This means that they can behave as both positional and keyword parameters:"
   ]
  },
  {
   "cell_type": "code",
   "execution_count": 4,
   "id": "1467151b",
   "metadata": {},
   "outputs": [],
   "source": [
    "def func(mxd1, mxd2):\n",
    "    print(f'mxd1: {mxd1}\\nmxd2: {mxd2}')"
   ]
  },
  {
   "cell_type": "code",
   "execution_count": 5,
   "id": "075b17a7",
   "metadata": {},
   "outputs": [
    {
     "name": "stdout",
     "output_type": "stream",
     "text": [
      "mxd1: a\n",
      "mxd2: b\n"
     ]
    }
   ],
   "source": [
    "func('a', 'b')"
   ]
  },
  {
   "cell_type": "markdown",
   "id": "9fd4b5a9",
   "metadata": {},
   "source": [
    "Passing `'a'` and `'b'` will assign them to `mxd1` and `mxd2`, respectively. Both parameters are here used as positional parameters."
   ]
  },
  {
   "cell_type": "markdown",
   "id": "b67b756b",
   "metadata": {},
   "source": [
    "Since they are mixed parameters, when passing values in the function call you can also use keyword arguments:"
   ]
  },
  {
   "cell_type": "code",
   "execution_count": 6,
   "id": "1fc25fba",
   "metadata": {},
   "outputs": [
    {
     "name": "stdout",
     "output_type": "stream",
     "text": [
      "mxd1: a\n",
      "mxd2: b\n"
     ]
    }
   ],
   "source": [
    "func(mxd1='a', mxd2='b')"
   ]
  },
  {
   "cell_type": "markdown",
   "id": "10b05537",
   "metadata": {},
   "source": [
    "Using them as keyword arguments also allows you to pass them in a mixed order:"
   ]
  },
  {
   "cell_type": "code",
   "execution_count": 7,
   "id": "60feec31",
   "metadata": {},
   "outputs": [
    {
     "name": "stdout",
     "output_type": "stream",
     "text": [
      "mxd1: a\n",
      "mxd2: b\n"
     ]
    }
   ],
   "source": [
    "func(mxd2='b', mxd1='a')"
   ]
  },
  {
   "cell_type": "markdown",
   "id": "1588f3b8",
   "metadata": {},
   "source": [
    "You can also use a mix of positional and keyword arguments:"
   ]
  },
  {
   "cell_type": "code",
   "execution_count": 8,
   "id": "9d7da820",
   "metadata": {},
   "outputs": [
    {
     "name": "stdout",
     "output_type": "stream",
     "text": [
      "mxd1: a\n",
      "mxd2: b\n"
     ]
    }
   ],
   "source": [
    "func('a', mxd2='b')"
   ]
  },
  {
   "cell_type": "markdown",
   "id": "45bf2c64",
   "metadata": {},
   "source": [
    "However, all keyword arguments **must** be to the right of positional arguments. If not, Python will raise a `SyntaxError` exception:"
   ]
  },
  {
   "cell_type": "code",
   "execution_count": 9,
   "id": "8f0f0465",
   "metadata": {},
   "outputs": [
    {
     "ename": "SyntaxError",
     "evalue": "positional argument follows keyword argument (1515809316.py, line 1)",
     "output_type": "error",
     "traceback": [
      "\u001b[0;36m  File \u001b[0;32m\"/tmp/ipykernel_2312/1515809316.py\"\u001b[0;36m, line \u001b[0;32m1\u001b[0m\n\u001b[0;31m    func(mxd1='a', 'b')\u001b[0m\n\u001b[0m                      ^\u001b[0m\n\u001b[0;31mSyntaxError\u001b[0m\u001b[0;31m:\u001b[0m positional argument follows keyword argument\n"
     ]
    }
   ],
   "source": [
    "func(mxd1='a', 'b')"
   ]
  },
  {
   "cell_type": "markdown",
   "id": "863058f7",
   "metadata": {},
   "source": [
    "## Positional-only Parameters"
   ]
  },
  {
   "cell_type": "markdown",
   "id": "0151dd60",
   "metadata": {},
   "source": [
    "If you want to force any number of parameters to be positional-only, write them separated by commas, with a trailing `/` as if it were a parameter:"
   ]
  },
  {
   "cell_type": "code",
   "execution_count": 11,
   "id": "bd7d0512",
   "metadata": {},
   "outputs": [],
   "source": [
    "def func(pos1, pos2, /):\n",
    "    print(f'pos1: {pos1}\\npos2: {pos2}')"
   ]
  },
  {
   "cell_type": "code",
   "execution_count": 12,
   "id": "4770f8d7",
   "metadata": {},
   "outputs": [
    {
     "name": "stdout",
     "output_type": "stream",
     "text": [
      "pos1: a\n",
      "pos2: b\n"
     ]
    }
   ],
   "source": [
    "func('a', 'b')"
   ]
  },
  {
   "cell_type": "markdown",
   "id": "42cfe334",
   "metadata": {},
   "source": [
    "Since they are positional-only parameters, if you try to pass them as keyword arguments, Python will raise a `TypeError` exception: "
   ]
  },
  {
   "cell_type": "code",
   "execution_count": 13,
   "id": "b9785bb9",
   "metadata": {},
   "outputs": [],
   "source": [
    "def func(pos1, pos2, /):\n",
    "    print(f'pos1: {pos1}\\npos2: {pos2}')"
   ]
  },
  {
   "cell_type": "code",
   "execution_count": 14,
   "id": "404ace5a",
   "metadata": {},
   "outputs": [
    {
     "ename": "TypeError",
     "evalue": "func() got some positional-only arguments passed as keyword arguments: 'pos1, pos2'",
     "output_type": "error",
     "traceback": [
      "\u001b[0;31m---------------------------------------------------------------------------\u001b[0m",
      "\u001b[0;31mTypeError\u001b[0m                                 Traceback (most recent call last)",
      "\u001b[0;32m/tmp/ipykernel_2312/1412797201.py\u001b[0m in \u001b[0;36m<module>\u001b[0;34m\u001b[0m\n\u001b[0;32m----> 1\u001b[0;31m \u001b[0mfunc\u001b[0m\u001b[0;34m(\u001b[0m\u001b[0mpos1\u001b[0m\u001b[0;34m=\u001b[0m\u001b[0;34m'a'\u001b[0m\u001b[0;34m,\u001b[0m \u001b[0mpos2\u001b[0m\u001b[0;34m=\u001b[0m\u001b[0;34m'b'\u001b[0m\u001b[0;34m)\u001b[0m\u001b[0;34m\u001b[0m\u001b[0;34m\u001b[0m\u001b[0m\n\u001b[0m",
      "\u001b[0;31mTypeError\u001b[0m: func() got some positional-only arguments passed as keyword arguments: 'pos1, pos2'"
     ]
    }
   ],
   "source": [
    "func(pos1='a', pos2='b')"
   ]
  },
  {
   "cell_type": "markdown",
   "id": "e4a16d2d",
   "metadata": {},
   "source": [
    "After the `/` delimiter, you can specify any number of mixed parameters:"
   ]
  },
  {
   "cell_type": "code",
   "execution_count": 15,
   "id": "59872397",
   "metadata": {},
   "outputs": [],
   "source": [
    "def func(pos1, pos2, /, mxd1):\n",
    "    print(f'pos1: {pos1}\\npos2: {pos2}\\nmxd1: {mxd1}')"
   ]
  },
  {
   "cell_type": "code",
   "execution_count": 16,
   "id": "c54f46b3",
   "metadata": {},
   "outputs": [
    {
     "name": "stdout",
     "output_type": "stream",
     "text": [
      "pos1: a\n",
      "pos2: b\n",
      "mxd1: c\n"
     ]
    }
   ],
   "source": [
    "func('a', 'b', 'c')"
   ]
  },
  {
   "cell_type": "code",
   "execution_count": 17,
   "id": "a3ccb93e",
   "metadata": {},
   "outputs": [
    {
     "name": "stdout",
     "output_type": "stream",
     "text": [
      "pos1: a\n",
      "pos2: b\n",
      "mxd1: c\n"
     ]
    }
   ],
   "source": [
    "func('a', 'b', mxd1='c')"
   ]
  },
  {
   "cell_type": "markdown",
   "id": "13ba26a1",
   "metadata": {},
   "source": [
    "## Keyword-only Parameters"
   ]
  },
  {
   "cell_type": "markdown",
   "id": "e2048892",
   "metadata": {},
   "source": [
    "If you want to force any number of parameters to be keyword-only, write them separated by commas, with a leading `*` as if it were a parameter:"
   ]
  },
  {
   "cell_type": "code",
   "execution_count": 18,
   "id": "345e8290",
   "metadata": {},
   "outputs": [],
   "source": [
    "def func(*, key1, key2):\n",
    "    print(f'key1: {key1}\\nkey2: {key2}')"
   ]
  },
  {
   "cell_type": "code",
   "execution_count": 19,
   "id": "1712d9d0",
   "metadata": {},
   "outputs": [
    {
     "name": "stdout",
     "output_type": "stream",
     "text": [
      "key1: a\n",
      "key2: b\n"
     ]
    }
   ],
   "source": [
    "func(key1='a', key2='b')"
   ]
  },
  {
   "cell_type": "markdown",
   "id": "20959ab5",
   "metadata": {},
   "source": [
    "Since they are keyword-only arguments, this allows you to pass them in a mixed order:"
   ]
  },
  {
   "cell_type": "code",
   "execution_count": 21,
   "id": "fe6dc33f",
   "metadata": {},
   "outputs": [
    {
     "name": "stdout",
     "output_type": "stream",
     "text": [
      "key1: a\n",
      "key2: b\n"
     ]
    }
   ],
   "source": [
    "func(key2='b', key1='a')"
   ]
  },
  {
   "cell_type": "markdown",
   "id": "24255bee",
   "metadata": {},
   "source": [
    "Since they are keyword-only parameters, if you try to pass them as positional arguments, Python will raise a `TypeError` exception: "
   ]
  },
  {
   "cell_type": "code",
   "execution_count": 22,
   "id": "9c7059d2",
   "metadata": {},
   "outputs": [
    {
     "ename": "TypeError",
     "evalue": "func() takes 0 positional arguments but 1 positional argument (and 1 keyword-only argument) were given",
     "output_type": "error",
     "traceback": [
      "\u001b[0;31m---------------------------------------------------------------------------\u001b[0m",
      "\u001b[0;31mTypeError\u001b[0m                                 Traceback (most recent call last)",
      "\u001b[0;32m/tmp/ipykernel_2312/4238208996.py\u001b[0m in \u001b[0;36m<module>\u001b[0;34m\u001b[0m\n\u001b[0;32m----> 1\u001b[0;31m \u001b[0mfunc\u001b[0m\u001b[0;34m(\u001b[0m\u001b[0;34m'a'\u001b[0m\u001b[0;34m,\u001b[0m \u001b[0mkey2\u001b[0m\u001b[0;34m=\u001b[0m\u001b[0;34m'b'\u001b[0m\u001b[0;34m)\u001b[0m\u001b[0;34m\u001b[0m\u001b[0;34m\u001b[0m\u001b[0m\n\u001b[0m",
      "\u001b[0;31mTypeError\u001b[0m: func() takes 0 positional arguments but 1 positional argument (and 1 keyword-only argument) were given"
     ]
    }
   ],
   "source": [
    "func('a', key2='b')"
   ]
  },
  {
   "cell_type": "markdown",
   "id": "7d4ca983",
   "metadata": {},
   "source": [
    "Before the `*` delimiter, you can specify any number of mixed parameters:"
   ]
  },
  {
   "cell_type": "code",
   "execution_count": 23,
   "id": "a8c9a94c",
   "metadata": {},
   "outputs": [],
   "source": [
    "def func(mxd1, *, key1, key2):\n",
    "    print(f'key1: {key1}\\nkey2: {key2}\\nmxd1: {mxd1}')"
   ]
  },
  {
   "cell_type": "code",
   "execution_count": 24,
   "id": "fe5ee996",
   "metadata": {},
   "outputs": [
    {
     "name": "stdout",
     "output_type": "stream",
     "text": [
      "key1: b\n",
      "key2: c\n",
      "mxd1: a\n"
     ]
    }
   ],
   "source": [
    "func('a', key1='b', key2='c')"
   ]
  },
  {
   "cell_type": "code",
   "execution_count": 25,
   "id": "bc4ad520",
   "metadata": {},
   "outputs": [
    {
     "name": "stdout",
     "output_type": "stream",
     "text": [
      "key1: b\n",
      "key2: c\n",
      "mxd1: a\n"
     ]
    }
   ],
   "source": [
    "func(mxd1='a', key1='b', key2='c')"
   ]
  },
  {
   "cell_type": "markdown",
   "id": "465f2634",
   "metadata": {},
   "source": [
    "If you use the mixed parameter (or the parameters, if they are more than one) as a keyword argument, you can pass all the arguments in a mixed order:"
   ]
  },
  {
   "cell_type": "code",
   "execution_count": 26,
   "id": "796735b9",
   "metadata": {},
   "outputs": [
    {
     "name": "stdout",
     "output_type": "stream",
     "text": [
      "key1: b\n",
      "key2: c\n",
      "mxd1: a\n"
     ]
    }
   ],
   "source": [
    "func(key1='b', mxd1='a', key2='c')"
   ]
  },
  {
   "cell_type": "markdown",
   "id": "408193a9",
   "metadata": {},
   "source": [
    "##  Tying Them All Together"
   ]
  },
  {
   "cell_type": "markdown",
   "id": "ab5b78b5",
   "metadata": {},
   "source": [
    "Here's a list of examples that summarizes what we've seen so far:"
   ]
  },
  {
   "cell_type": "code",
   "execution_count": 28,
   "id": "6ab0f260",
   "metadata": {},
   "outputs": [],
   "source": [
    "def func(pos1, /, mxd1, *, key1):\n",
    "    print(f'pos1: {pos1}\\nmxd1: {mxd1}\\nkey1: {key1}')"
   ]
  },
  {
   "cell_type": "code",
   "execution_count": 29,
   "id": "7cf90bde",
   "metadata": {},
   "outputs": [
    {
     "name": "stdout",
     "output_type": "stream",
     "text": [
      "pos1: a\n",
      "mxd1: b\n",
      "key1: c\n"
     ]
    }
   ],
   "source": [
    "func('a', 'b', key1='c')"
   ]
  },
  {
   "cell_type": "code",
   "execution_count": 30,
   "id": "e9582440",
   "metadata": {},
   "outputs": [
    {
     "name": "stdout",
     "output_type": "stream",
     "text": [
      "pos1: a\n",
      "mxd1: b\n",
      "key1: c\n"
     ]
    }
   ],
   "source": [
    "func('a', mxd1='b', key1='c')"
   ]
  },
  {
   "cell_type": "code",
   "execution_count": 31,
   "id": "47030b5d",
   "metadata": {},
   "outputs": [
    {
     "name": "stdout",
     "output_type": "stream",
     "text": [
      "pos1: a\n",
      "mxd1: b\n",
      "key1: c\n"
     ]
    }
   ],
   "source": [
    "func('a', key1='c', mxd1='b')"
   ]
  },
  {
   "cell_type": "markdown",
   "id": "696f2b98",
   "metadata": {},
   "source": [
    "Mixed parameters are not mandatory, and you could just have positional-only and keyword-only using the following syntax:"
   ]
  },
  {
   "cell_type": "code",
   "execution_count": 32,
   "id": "5695c0a2",
   "metadata": {},
   "outputs": [],
   "source": [
    "def func(pos1, /, *, key1):\n",
    "    print(f'pos1: {pos1}\\nkey1: {key1}')"
   ]
  },
  {
   "cell_type": "code",
   "execution_count": 37,
   "id": "6b458842",
   "metadata": {},
   "outputs": [
    {
     "name": "stdout",
     "output_type": "stream",
     "text": [
      "pos1: a\n",
      "key1: b\n"
     ]
    }
   ],
   "source": [
    "func('a', key1='b')"
   ]
  },
  {
   "cell_type": "markdown",
   "id": "9696bd6a",
   "metadata": {},
   "source": [
    "All the rules above still does apply. So it's not possible to pass a keyword argument to a positional-only parameter, and viceversa. Otherwise, Python will raise a `TypeError` exception:"
   ]
  },
  {
   "cell_type": "code",
   "execution_count": 35,
   "id": "96921a5d",
   "metadata": {},
   "outputs": [
    {
     "ename": "TypeError",
     "evalue": "func() got some positional-only arguments passed as keyword arguments: 'pos1'",
     "output_type": "error",
     "traceback": [
      "\u001b[0;31m---------------------------------------------------------------------------\u001b[0m",
      "\u001b[0;31mTypeError\u001b[0m                                 Traceback (most recent call last)",
      "\u001b[0;32m/tmp/ipykernel_2312/1994684195.py\u001b[0m in \u001b[0;36m<module>\u001b[0;34m\u001b[0m\n\u001b[0;32m----> 1\u001b[0;31m \u001b[0mfunc\u001b[0m\u001b[0;34m(\u001b[0m\u001b[0mpos1\u001b[0m\u001b[0;34m=\u001b[0m\u001b[0;34m'a'\u001b[0m\u001b[0;34m,\u001b[0m \u001b[0mkey1\u001b[0m\u001b[0;34m=\u001b[0m\u001b[0;34m'b'\u001b[0m\u001b[0;34m)\u001b[0m\u001b[0;34m\u001b[0m\u001b[0;34m\u001b[0m\u001b[0m\n\u001b[0m",
      "\u001b[0;31mTypeError\u001b[0m: func() got some positional-only arguments passed as keyword arguments: 'pos1'"
     ]
    }
   ],
   "source": [
    "func(pos1='a', key1='b')"
   ]
  },
  {
   "cell_type": "code",
   "execution_count": 36,
   "id": "8303c0a2",
   "metadata": {},
   "outputs": [
    {
     "ename": "TypeError",
     "evalue": "func() takes 1 positional argument but 2 were given",
     "output_type": "error",
     "traceback": [
      "\u001b[0;31m---------------------------------------------------------------------------\u001b[0m",
      "\u001b[0;31mTypeError\u001b[0m                                 Traceback (most recent call last)",
      "\u001b[0;32m/tmp/ipykernel_2312/2541426234.py\u001b[0m in \u001b[0;36m<module>\u001b[0;34m\u001b[0m\n\u001b[0;32m----> 1\u001b[0;31m \u001b[0mfunc\u001b[0m\u001b[0;34m(\u001b[0m\u001b[0;34m'a'\u001b[0m\u001b[0;34m,\u001b[0m \u001b[0;34m'b'\u001b[0m\u001b[0;34m)\u001b[0m\u001b[0;34m\u001b[0m\u001b[0;34m\u001b[0m\u001b[0m\n\u001b[0m",
      "\u001b[0;31mTypeError\u001b[0m: func() takes 1 positional argument but 2 were given"
     ]
    }
   ],
   "source": [
    "func('a', 'b')"
   ]
  },
  {
   "cell_type": "markdown",
   "id": "46fcee9d",
   "metadata": {},
   "source": [
    "It is also not possible to mix up the order of positional and keyword argument in the signature. In this cas"
   ]
  },
  {
   "cell_type": "code",
   "execution_count": 38,
   "id": "edc53a3b",
   "metadata": {},
   "outputs": [
    {
     "ename": "SyntaxError",
     "evalue": "positional argument follows keyword argument (1935414384.py, line 1)",
     "output_type": "error",
     "traceback": [
      "\u001b[0;36m  File \u001b[0;32m\"/tmp/ipykernel_2312/1935414384.py\"\u001b[0;36m, line \u001b[0;32m1\u001b[0m\n\u001b[0;31m    func(key1='b', 'a')\u001b[0m\n\u001b[0m                      ^\u001b[0m\n\u001b[0;31mSyntaxError\u001b[0m\u001b[0;31m:\u001b[0m positional argument follows keyword argument\n"
     ]
    }
   ],
   "source": [
    "func(key1='b', 'a')"
   ]
  },
  {
   "cell_type": "code",
   "execution_count": null,
   "id": "c968be11",
   "metadata": {},
   "outputs": [],
   "source": []
  }
 ],
 "metadata": {
  "kernelspec": {
   "display_name": "Python 3 (ipykernel)",
   "language": "python",
   "name": "python3"
  },
  "language_info": {
   "codemirror_mode": {
    "name": "ipython",
    "version": 3
   },
   "file_extension": ".py",
   "mimetype": "text/x-python",
   "name": "python",
   "nbconvert_exporter": "python",
   "pygments_lexer": "ipython3",
   "version": "3.10.6"
  }
 },
 "nbformat": 4,
 "nbformat_minor": 5
}
